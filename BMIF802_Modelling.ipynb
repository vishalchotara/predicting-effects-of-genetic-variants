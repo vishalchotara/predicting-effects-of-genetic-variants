{
 "cells": [
  {
   "cell_type": "markdown",
   "source": "# 1. The Model",
   "metadata": {
    "tags": [],
    "cell_id": "00001-be555a92-92f4-4346-b1ea-1980a5daf774",
    "deepnote_cell_type": "markdown"
   }
  },
  {
   "cell_type": "markdown",
   "source": "## 1.1 Data Loading",
   "metadata": {
    "tags": [],
    "cell_id": "00001-fdf7cc81-8e8f-482f-8985-decd12c7c723",
    "deepnote_cell_type": "markdown"
   }
  },
  {
   "cell_type": "markdown",
   "source": "### 1.1.1 Install Dependencies",
   "metadata": {
    "tags": [],
    "cell_id": "00002-23be3d2e-c18b-4dc8-95e9-9d52661e9b0c",
    "deepnote_cell_type": "markdown"
   }
  },
  {
   "cell_type": "code",
   "metadata": {
    "tags": [],
    "cell_id": "00002-41af152a-3a25-45db-a04c-ae08ea462c3e",
    "deepnote_to_be_reexecuted": false,
    "source_hash": "5c9cb81",
    "execution_start": 1624658703510,
    "execution_millis": 43351,
    "is_output_hidden": true,
    "output_cleared": false,
    "deepnote_cell_type": "code"
   },
   "source": "# data manipulation library\n!pip install pandas  \n\n# used for mathematical computation/statistics\n!pip install numpy  \n\n# data plotting and visualization\n!pip install matplotlib  \n\n# for plotting model\n!pip install scikit-plot\n\n!pip install pickle-mixin\n\n! pip install py7zr\n\n!pip install imblearn",
   "execution_count": 2,
   "outputs": [
    {
     "name": "stdout",
     "text": "Requirement already satisfied: pandas in /shared-libs/python3.7/py/lib/python3.7/site-packages (1.2.4)\nRequirement already satisfied: python-dateutil>=2.7.3 in /shared-libs/python3.7/py-core/lib/python3.7/site-packages (from pandas) (2.8.1)\nRequirement already satisfied: pytz>=2017.3 in /shared-libs/python3.7/py/lib/python3.7/site-packages (from pandas) (2021.1)\nRequirement already satisfied: numpy>=1.16.5 in /shared-libs/python3.7/py/lib/python3.7/site-packages (from pandas) (1.19.5)\nRequirement already satisfied: six>=1.5 in /shared-libs/python3.7/py-core/lib/python3.7/site-packages (from python-dateutil>=2.7.3->pandas) (1.16.0)\nRequirement already satisfied: numpy in /shared-libs/python3.7/py/lib/python3.7/site-packages (1.19.5)\nRequirement already satisfied: matplotlib in /shared-libs/python3.7/py/lib/python3.7/site-packages (3.4.2)\nRequirement already satisfied: pyparsing>=2.2.1 in /shared-libs/python3.7/py-core/lib/python3.7/site-packages (from matplotlib) (2.4.7)\nRequirement already satisfied: cycler>=0.10 in /shared-libs/python3.7/py/lib/python3.7/site-packages (from matplotlib) (0.10.0)\nRequirement already satisfied: pillow>=6.2.0 in /shared-libs/python3.7/py/lib/python3.7/site-packages (from matplotlib) (8.2.0)\nRequirement already satisfied: kiwisolver>=1.0.1 in /shared-libs/python3.7/py/lib/python3.7/site-packages (from matplotlib) (1.3.1)\nRequirement already satisfied: python-dateutil>=2.7 in /shared-libs/python3.7/py-core/lib/python3.7/site-packages (from matplotlib) (2.8.1)\nRequirement already satisfied: numpy>=1.16 in /shared-libs/python3.7/py/lib/python3.7/site-packages (from matplotlib) (1.19.5)\nRequirement already satisfied: six in /shared-libs/python3.7/py-core/lib/python3.7/site-packages (from cycler>=0.10->matplotlib) (1.16.0)\nRequirement already satisfied: scikit-plot in /root/venv/lib/python3.7/site-packages (0.3.7)\nRequirement already satisfied: matplotlib>=1.4.0 in /shared-libs/python3.7/py/lib/python3.7/site-packages (from scikit-plot) (3.4.2)\nRequirement already satisfied: scikit-learn>=0.18 in /shared-libs/python3.7/py/lib/python3.7/site-packages (from scikit-plot) (0.24.2)\nRequirement already satisfied: joblib>=0.10 in /shared-libs/python3.7/py/lib/python3.7/site-packages (from scikit-plot) (1.0.1)\nRequirement already satisfied: scipy>=0.9 in /shared-libs/python3.7/py/lib/python3.7/site-packages (from scikit-plot) (1.6.3)\nRequirement already satisfied: numpy>=1.16 in /shared-libs/python3.7/py/lib/python3.7/site-packages (from matplotlib>=1.4.0->scikit-plot) (1.19.5)\nRequirement already satisfied: cycler>=0.10 in /shared-libs/python3.7/py/lib/python3.7/site-packages (from matplotlib>=1.4.0->scikit-plot) (0.10.0)\nRequirement already satisfied: kiwisolver>=1.0.1 in /shared-libs/python3.7/py/lib/python3.7/site-packages (from matplotlib>=1.4.0->scikit-plot) (1.3.1)\nRequirement already satisfied: pyparsing>=2.2.1 in /shared-libs/python3.7/py-core/lib/python3.7/site-packages (from matplotlib>=1.4.0->scikit-plot) (2.4.7)\nRequirement already satisfied: python-dateutil>=2.7 in /shared-libs/python3.7/py-core/lib/python3.7/site-packages (from matplotlib>=1.4.0->scikit-plot) (2.8.1)\nRequirement already satisfied: pillow>=6.2.0 in /shared-libs/python3.7/py/lib/python3.7/site-packages (from matplotlib>=1.4.0->scikit-plot) (8.2.0)\nRequirement already satisfied: six in /shared-libs/python3.7/py-core/lib/python3.7/site-packages (from cycler>=0.10->matplotlib>=1.4.0->scikit-plot) (1.16.0)\nRequirement already satisfied: threadpoolctl>=2.0.0 in /shared-libs/python3.7/py/lib/python3.7/site-packages (from scikit-learn>=0.18->scikit-plot) (2.1.0)\nRequirement already satisfied: pickle-mixin in /root/venv/lib/python3.7/site-packages (1.0.2)\nRequirement already satisfied: py7zr in /root/venv/lib/python3.7/site-packages (0.16.1)\nRequirement already satisfied: bcj-cffi<0.6.0,>=0.5.1 in /root/venv/lib/python3.7/site-packages (from py7zr) (0.5.1)\nRequirement already satisfied: pyppmd>=0.14.0 in /root/venv/lib/python3.7/site-packages (from py7zr) (0.15.0)\nRequirement already satisfied: brotli>=1.0.9 in /root/venv/lib/python3.7/site-packages (from py7zr) (1.0.9)\nRequirement already satisfied: pyzstd<0.15.0,>=0.14.4 in /root/venv/lib/python3.7/site-packages (from py7zr) (0.14.4)\nRequirement already satisfied: texttable in /root/venv/lib/python3.7/site-packages (from py7zr) (1.6.3)\nRequirement already satisfied: pycryptodomex>=3.6.6 in /shared-libs/python3.7/py/lib/python3.7/site-packages (from py7zr) (3.10.1)\nRequirement already satisfied: multivolumefile>=0.2.3 in /root/venv/lib/python3.7/site-packages (from py7zr) (0.2.3)\nRequirement already satisfied: importlib-metadata in /shared-libs/python3.7/py-core/lib/python3.7/site-packages (from py7zr) (4.5.0)\nRequirement already satisfied: cffi>=1.14.0 in /shared-libs/python3.7/py-core/lib/python3.7/site-packages (from bcj-cffi<0.6.0,>=0.5.1->py7zr) (1.14.5)\nRequirement already satisfied: pycparser in /shared-libs/python3.7/py-core/lib/python3.7/site-packages (from cffi>=1.14.0->bcj-cffi<0.6.0,>=0.5.1->py7zr) (2.20)\nRequirement already satisfied: zipp>=0.5 in /shared-libs/python3.7/py-core/lib/python3.7/site-packages (from importlib-metadata->py7zr) (3.4.1)\nRequirement already satisfied: typing-extensions>=3.6.4 in /shared-libs/python3.7/py-core/lib/python3.7/site-packages (from importlib-metadata->py7zr) (3.10.0.0)\nRequirement already satisfied: imblearn in /root/venv/lib/python3.7/site-packages (0.0)\nRequirement already satisfied: imbalanced-learn in /root/venv/lib/python3.7/site-packages (from imblearn) (0.8.0)\nRequirement already satisfied: scikit-learn>=0.24 in /shared-libs/python3.7/py/lib/python3.7/site-packages (from imbalanced-learn->imblearn) (0.24.2)\nRequirement already satisfied: joblib>=0.11 in /shared-libs/python3.7/py/lib/python3.7/site-packages (from imbalanced-learn->imblearn) (1.0.1)\nRequirement already satisfied: numpy>=1.13.3 in /shared-libs/python3.7/py/lib/python3.7/site-packages (from imbalanced-learn->imblearn) (1.19.5)\nRequirement already satisfied: scipy>=0.19.1 in /shared-libs/python3.7/py/lib/python3.7/site-packages (from imbalanced-learn->imblearn) (1.6.3)\nRequirement already satisfied: threadpoolctl>=2.0.0 in /shared-libs/python3.7/py/lib/python3.7/site-packages (from scikit-learn>=0.24->imbalanced-learn->imblearn) (2.1.0)\n",
     "output_type": "stream"
    }
   ]
  },
  {
   "cell_type": "markdown",
   "source": "### 1.1.2 Import Modules",
   "metadata": {
    "tags": [],
    "cell_id": "00004-ea288b4f-d138-494c-9132-d5926a714c79",
    "deepnote_cell_type": "markdown"
   }
  },
  {
   "cell_type": "code",
   "metadata": {
    "tags": [],
    "cell_id": "00005-2d0f43da-44c0-469b-a537-8809dc585504",
    "deepnote_to_be_reexecuted": false,
    "source_hash": "2a37b9f6",
    "execution_start": 1624658751667,
    "execution_millis": 23,
    "deepnote_cell_type": "code"
   },
   "source": "import os\nimport pandas as pd\nimport numpy as np\nimport matplotlib.pyplot as plt\n\nfrom collections import Counter\nfrom itertools import chain\n\n# Modules needed for modeling & evaluation\nfrom sklearn.feature_extraction.text import TfidfVectorizer, CountVectorizer\nfrom sklearn.preprocessing import MinMaxScaler\nfrom sklearn.pipeline import Pipeline, make_pipeline\nfrom sklearn.compose import ColumnTransformer\nfrom sklearn.tree import DecisionTreeClassifier\nfrom sklearn.model_selection import train_test_split\nimport scikitplot.plotters as skplt\nimport py7zr\nfrom sklearn.ensemble import StackingClassifier\nfrom sklearn.metrics import log_loss, plot_confusion_matrix, accuracy_score\nfrom sklearn.metrics import matthews_corrcoef, cohen_kappa_score, classification_report\nimport pickle\nfrom sklearn.model_selection import cross_val_predict\nimport seaborn as sns\nfrom sklearn.linear_model import LogisticRegression\nfrom sklearn.ensemble import RandomForestClassifier\nfrom sklearn.svm import LinearSVC, SVC\nfrom sklearn.naive_bayes import MultinomialNB\nfrom sklearn.model_selection import cross_val_score\nfrom sklearn.compose import make_column_transformer\nfrom sklearn import set_config\nfrom imblearn.over_sampling import RandomOverSampler\nfrom imblearn.under_sampling import TomekLinks",
   "execution_count": 4,
   "outputs": []
  },
  {
   "cell_type": "markdown",
   "source": "### 1.1.3 Load Sample Submissions",
   "metadata": {
    "tags": [],
    "cell_id": "00047-762082cb-6219-4083-92cb-1c7bdc1a49b5",
    "deepnote_cell_type": "markdown"
   }
  },
  {
   "cell_type": "code",
   "metadata": {
    "tags": [],
    "cell_id": "00007-c16aa245-e0f2-4b8c-b83f-c7fe73b1ca1b",
    "deepnote_to_be_reexecuted": false,
    "source_hash": "1a30b603",
    "execution_start": 1624643001710,
    "execution_millis": 40,
    "deepnote_cell_type": "code"
   },
   "source": "cwd = os.getcwd()\nsample_submission_path = os.path.join(cwd, \"msk-redefining-cancer-treatment/stage2_sample_submission.csv.7z\")\nprivate_solution_stage_1_path = os.path.join(cwd, \"msk-redefining-cancer-treatment/stage1_solution_filtered.csv.7z\")\nprivate_solution_stage_2_path = os.path.join(cwd, \"msk-redefining-cancer-treatment/stage_2_private_solution.csv.7z\")\n\nwith py7zr.SevenZipFile(sample_submission_path, mode='r') as sample_submission:\n    sample_submission.extractall()\n    \nwith py7zr.SevenZipFile(private_solution_stage_1_path, mode='r') as private_solution_stage_1:\n    private_solution_stage_1.extractall()\n\nwith py7zr.SevenZipFile(private_solution_stage_2_path, mode='r') as private_solution_stage_2:\n    private_solution_stage_2.extractall()",
   "outputs": [],
   "execution_count": null
  },
  {
   "cell_type": "markdown",
   "source": "### 1.1.4 Read in datasets",
   "metadata": {
    "tags": [],
    "cell_id": "00002-70eff52d-1caf-4ae6-88ae-ff360a08d5f5",
    "deepnote_cell_type": "markdown"
   }
  },
  {
   "cell_type": "code",
   "metadata": {
    "tags": [],
    "cell_id": "00004-bb22b3a2-3a68-4eed-bef0-b5ad4f904b7f",
    "deepnote_to_be_reexecuted": false,
    "source_hash": "dfc716ff",
    "execution_start": 1624658751713,
    "execution_millis": 33,
    "deepnote_cell_type": "code"
   },
   "source": "# Variant dataframes where variations are grouped by hydrophobicity.\n# Miscellaneous variations are not grouped together.\ntraining_var_clean = pd.read_csv('training_variants_clean.csv')\ntest_var_clean = pd.read_csv('test_variants_clean.csv')\ntest_var_clean_stage2 = pd.read_csv('test_variants_clean_stage2.csv')",
   "execution_count": 5,
   "outputs": []
  },
  {
   "cell_type": "code",
   "metadata": {
    "tags": [],
    "cell_id": "00006-68b2d9ab-c04f-45ad-9664-85a3f20d9bb0",
    "deepnote_to_be_reexecuted": false,
    "source_hash": "4860b925",
    "execution_start": 1624658751761,
    "execution_millis": 691,
    "deepnote_cell_type": "code"
   },
   "source": "# Text data with all 9 classes.\ntraining_text_clean = pd.read_csv('training_text_clean.csv')\ntest_text_clean = pd.read_csv('test_text_clean.csv')\ntest_text_clean_stage2 = pd.read_csv('test_text_clean_stage2.csv')",
   "execution_count": 6,
   "outputs": []
  },
  {
   "cell_type": "markdown",
   "source": "[Use .astype('U').values instead of .values.astype('U') to avoid using too much memory](https://stackoverflow.com/questions/49957069/python-how-to-avoid-memoryerror-when-transform-text-data-into-unicode-using-ast)\n",
   "metadata": {
    "tags": [],
    "cell_id": "00007-e2116432-636b-4290-80f5-4208e404a22a",
    "deepnote_cell_type": "markdown"
   }
  },
  {
   "cell_type": "code",
   "metadata": {
    "tags": [],
    "cell_id": "00007-d52ce829-b871-4911-873b-15e9098dc513",
    "deepnote_to_be_reexecuted": false,
    "source_hash": "c45127f0",
    "execution_start": 1624658752456,
    "execution_millis": 9,
    "deepnote_cell_type": "code"
   },
   "source": "# Convert text to unicode - required for sklearn.\ntraining_text_clean[\"TEXT\"] = training_text_clean[\"TEXT\"].astype('U').values\n# Convert text to unicode - required for sklearn.\ntest_text_clean[\"TEXT\"] = test_text_clean[\"TEXT\"].astype('U').values\ntest_text_clean_stage2[\"TEXT\"] = test_text_clean_stage2[\"TEXT\"].astype('U').values",
   "execution_count": 7,
   "outputs": []
  },
  {
   "cell_type": "code",
   "metadata": {
    "tags": [],
    "cell_id": "00016-07638190-f19c-4cea-90af-653b07a262f0",
    "deepnote_to_be_reexecuted": false,
    "source_hash": "b5a4a09",
    "execution_start": 1624658753834,
    "execution_millis": 22,
    "deepnote_cell_type": "code"
   },
   "source": "# this df is for stage 1\nmerged_df_label_test = pd.merge(test_var_clean,test_text_clean,on=['ID'])\n# stage 2 below\nmerged_df_label_test_stage2 = pd.merge(test_var_clean_stage2,test_text_clean_stage2,on=['ID'])",
   "execution_count": 8,
   "outputs": []
  },
  {
   "cell_type": "markdown",
   "source": "## 1.2 Prepare Data",
   "metadata": {
    "tags": [],
    "cell_id": "00003-cfc53e0c-d8de-424a-8e46-fdd40e99f74c",
    "deepnote_cell_type": "markdown"
   }
  },
  {
   "cell_type": "code",
   "metadata": {
    "tags": [],
    "cell_id": "00025-86e7e3c1-8395-4598-bbfc-5480a0b6aaa1",
    "deepnote_to_be_reexecuted": false,
    "source_hash": "5f42e352",
    "execution_start": 1624658756368,
    "execution_millis": 7,
    "deepnote_cell_type": "code"
   },
   "source": "# Merge training var and text data together\nmerged_df_label = pd.merge(training_var_clean,training_text_clean,on=['ID'])",
   "execution_count": 9,
   "outputs": []
  },
  {
   "cell_type": "code",
   "metadata": {
    "tags": [],
    "cell_id": "00025-85a81d86-4d25-4865-b4ac-9089772e39a9",
    "deepnote_to_be_reexecuted": false,
    "source_hash": "34cfdf8a",
    "execution_start": 1624658764686,
    "execution_millis": 16,
    "deepnote_cell_type": "code"
   },
   "source": "# Factorize features\npipeline_df_merged = merged_df_label.copy()\npipeline_df_merged[\"Gene\"] = pipeline_df_merged[\"Gene\"].factorize()[0]\npipeline_df_merged[\"Variation\"] = pipeline_df_merged[\"Variation\"].factorize()[0]",
   "execution_count": 10,
   "outputs": []
  },
  {
   "cell_type": "code",
   "metadata": {
    "tags": [],
    "cell_id": "00028-c5c9b7ef-17a8-4cf7-ad99-706848ffe26c",
    "deepnote_to_be_reexecuted": false,
    "source_hash": "2d0264ab",
    "execution_start": 1624658766380,
    "execution_millis": 10,
    "deepnote_cell_type": "code"
   },
   "source": "# Stage 2 Test Data\npipeline_test_df_merged = merged_df_label_test_stage2.copy()\npipeline_test_df_merged[\"Gene\"] = pipeline_test_df_merged[\"Gene\"].factorize()[0]\npipeline_test_df_merged[\"Variation\"] = pipeline_test_df_merged[\"Variation\"].factorize()[0]",
   "execution_count": 11,
   "outputs": []
  },
  {
   "cell_type": "code",
   "metadata": {
    "tags": [],
    "cell_id": "00025-8a5c6233-3c63-4ac7-acf8-fddfd37cb2db",
    "deepnote_to_be_reexecuted": false,
    "source_hash": "605a4f9d",
    "execution_start": 1624658767953,
    "execution_millis": 10,
    "deepnote_cell_type": "code"
   },
   "source": "# Using an 80% Training, 20% Test Split\nX_train, X_test, y_train, y_test = train_test_split(\n    pipeline_df_merged[[\"Gene\", \"Variation\", \"TEXT\"]],\n    pipeline_df_merged[\"Class\"],\n    test_size=0.20)",
   "execution_count": 12,
   "outputs": []
  },
  {
   "cell_type": "code",
   "metadata": {
    "tags": [],
    "cell_id": "00011-5d341e8e-3db6-4d60-a690-482df586d189",
    "deepnote_to_be_reexecuted": false,
    "source_hash": "a20388b0",
    "execution_start": 1624658769191,
    "execution_millis": 9,
    "deepnote_cell_type": "code"
   },
   "source": "cv = CountVectorizer()\n#tfidf_vect = TfidfVectorizer()\n#dt_text = DecisionTreeClassifier()",
   "execution_count": 13,
   "outputs": []
  },
  {
   "cell_type": "markdown",
   "source": "## 1.3 Models Using Gene, Variation, and Text",
   "metadata": {
    "tags": [],
    "cell_id": "00019-400d798a-71b2-42e8-bc78-138b7d1efdf7",
    "deepnote_cell_type": "markdown"
   }
  },
  {
   "cell_type": "code",
   "metadata": {
    "tags": [],
    "cell_id": "00027-92710dc7-b24a-43b1-9f5e-a1e2a98b3d9e",
    "deepnote_to_be_reexecuted": false,
    "source_hash": "4c89bf8e",
    "execution_start": 1624658771606,
    "execution_millis": 7,
    "deepnote_cell_type": "code"
   },
   "source": "ct = make_column_transformer((CountVectorizer(), 'TEXT'),\n                             remainder='passthrough')\n# tfidf for words\ntft = make_column_transformer((TfidfVectorizer(), 'TEXT'),\n                              remainder='passthrough')\n# tfidf for trigrams\ntft_3 = make_column_transformer((TfidfVectorizer(ngram_range=(3,3)),\n                                 'TEXT'), remainder='passthrough')",
   "execution_count": 14,
   "outputs": []
  },
  {
   "cell_type": "code",
   "metadata": {
    "tags": [],
    "cell_id": "00027-825f2b17-6045-4b4f-a019-3e6a09e15fe9",
    "deepnote_to_be_reexecuted": false,
    "source_hash": "3f21589e",
    "execution_start": 1624658773059,
    "execution_millis": 32,
    "deepnote_cell_type": "code"
   },
   "source": "# Oversampling of training data\ntl = RandomOverSampler()\n\n# Fit predictor and target variable\nx_tl, y_tl = tl.fit_resample(X_train, y_train)\n\nprint('Original dataset shape', Counter(y_train))\nprint('Resample dataset shape', Counter(y_tl))",
   "execution_count": 15,
   "outputs": [
    {
     "name": "stdout",
     "text": "Original dataset shape Counter({7: 769, 4: 550, 1: 454, 2: 357, 6: 221, 5: 180, 3: 75, 9: 31, 8: 15})\nResample dataset shape Counter({1: 769, 2: 769, 4: 769, 7: 769, 6: 769, 9: 769, 3: 769, 5: 769, 8: 769})\n",
     "output_type": "stream"
    }
   ]
  },
  {
   "cell_type": "code",
   "metadata": {
    "tags": [],
    "cell_id": "00023-e0974915-ffce-4771-b1a2-8b36e051d014",
    "deepnote_to_be_reexecuted": false,
    "source_hash": "be590b12",
    "execution_start": 1624643035682,
    "execution_millis": 4,
    "deepnote_cell_type": "code"
   },
   "source": "# If the next code chunk throws an error, run this code. \n\n#x_tl = pd.DataFrame(x_tl,columns=[\"Gene\",\"Variation\",\"TEXT\"])",
   "outputs": [],
   "execution_count": null
  },
  {
   "cell_type": "code",
   "metadata": {
    "tags": [],
    "cell_id": "00026-247964f8-346b-459c-9036-113dff20321a",
    "deepnote_to_be_reexecuted": false,
    "source_hash": "b7604c8f",
    "execution_start": 1624643038619,
    "execution_millis": 10249,
    "deepnote_cell_type": "code"
   },
   "source": "# Stage 1 classifier + Accuracy\n# Count vectorizer\npipeline = make_pipeline(ct,DecisionTreeClassifier())\npipeline.fit(x_tl, y_tl)\nprint(\"Accuracy: {}\".format(pipeline.score(X_test, y_test)))\nplot_confusion_matrix(pipeline, X_test, y_test)\nplt.title('Confusion Matrix of Decision Tree Model using Count Vectorizer for TEXT')",
   "outputs": [
    {
     "name": "stdout",
     "text": "Accuracy: 0.5376506024096386\n",
     "output_type": "stream"
    },
    {
     "output_type": "execute_result",
     "execution_count": 64,
     "data": {
      "text/plain": "Text(0.5, 1.0, 'Confusion Matrix of Decision Tree Model using Count Vectorizer for TEXT')"
     },
     "metadata": {}
    },
    {
     "data": {
      "text/plain": "<Figure size 432x288 with 2 Axes>",
      "image/png": "[encoded data removed]"
     },
     "metadata": {
      "needs_background": "light",
      "image/png": {
       "width": 449,
       "height": 278
      }
     },
     "output_type": "display_data"
    }
   ],
   "execution_count": null
  },
  {
   "cell_type": "code",
   "metadata": {
    "tags": [],
    "cell_id": "00029-5aaea98f-8df0-4c9d-ac70-affd10b4a3f4",
    "deepnote_to_be_reexecuted": false,
    "source_hash": "361027bf",
    "execution_start": 1624555716975,
    "execution_millis": 57499,
    "deepnote_cell_type": "code"
   },
   "source": "# Stage 1 classifier + Accuracy\n# Count vectorizer\npipeline = make_pipeline(ct,RandomForestClassifier())\npipeline.fit(x_tl, y_tl)\nprint(\"Accuracy: {}\".format(pipeline.score(X_test, y_test)))\nplot_confusion_matrix(pipeline, X_test, y_test)\nplt.title('Confusion Matrix of Random Forest Model using Count Vectorizer for TEXT')",
   "execution_count": null,
   "outputs": [
    {
     "name": "stdout",
     "text": "Accuracy: 0.6701807228915663\n",
     "output_type": "stream"
    },
    {
     "output_type": "execute_result",
     "execution_count": 16,
     "data": {
      "text/plain": "Text(0.5, 1.0, 'Confusion Matrix of Random Forest Model using Count Vectorizer for TEXT')"
     },
     "metadata": {}
    },
    {
     "data": {
      "text/plain": "<Figure size 432x288 with 2 Axes>",
      "image/png": "[encoded data removed]"
     },
     "metadata": {
      "needs_background": "light",
      "image/png": {
       "width": 460,
       "height": 278
      }
     },
     "output_type": "display_data"
    }
   ]
  },
  {
   "cell_type": "code",
   "metadata": {
    "tags": [],
    "cell_id": "00029-8c6869a9-5ef3-4797-ad5e-0a45528bb440",
    "deepnote_to_be_reexecuted": false,
    "source_hash": "87bf9c3a",
    "execution_start": 1624555774500,
    "execution_millis": 11952,
    "deepnote_cell_type": "code"
   },
   "source": "# Tf-idf\n# Stage 1 classifier + Accuracy\npipeline = make_pipeline(tft,DecisionTreeClassifier())\npipeline.fit(x_tl, y_tl)\nprint(\"Accuracy: {}\".format(pipeline.score(X_test, y_test)))\nplot_confusion_matrix(pipeline, X_test, y_test)\nplt.title('Confusion Matrix of Decision Tree Model using TF-IDF Vectorizer for TEXT')",
   "execution_count": null,
   "outputs": [
    {
     "name": "stdout",
     "text": "Accuracy: 0.6144578313253012\n",
     "output_type": "stream"
    },
    {
     "output_type": "execute_result",
     "execution_count": 17,
     "data": {
      "text/plain": "Text(0.5, 1.0, 'Confusion Matrix of Decision Tree Model using TF-IDF Vectorizer for TEXT')"
     },
     "metadata": {}
    },
    {
     "data": {
      "text/plain": "<Figure size 432x288 with 2 Axes>",
      "image/png": "[encoded data removed]"
     },
     "metadata": {
      "needs_background": "light",
      "image/png": {
       "width": 452,
       "height": 278
      }
     },
     "output_type": "display_data"
    }
   ]
  },
  {
   "cell_type": "code",
   "metadata": {
    "tags": [],
    "cell_id": "00031-9a691001-fcab-4441-9eff-f19006a3b89e",
    "deepnote_to_be_reexecuted": false,
    "source_hash": "98c3ed55",
    "execution_start": 1624555786481,
    "execution_millis": 55559,
    "deepnote_cell_type": "code"
   },
   "source": "# Tf-idf\n# Stage 1 classifier + Accuracy\npipeline = make_pipeline(tft,RandomForestClassifier())\npipeline.fit(x_tl, y_tl)\nprint(\"Accuracy: {}\".format(pipeline.score(X_test, y_test)))\nplot_confusion_matrix(pipeline, X_test, y_test)\nplt.title('Confusion Matrix of Random Forest Model using TF-IDF Vectorizer for TEXT')",
   "execution_count": null,
   "outputs": [
    {
     "name": "stdout",
     "text": "Accuracy: 0.6731927710843374\n",
     "output_type": "stream"
    },
    {
     "output_type": "execute_result",
     "execution_count": 18,
     "data": {
      "text/plain": "Text(0.5, 1.0, 'Confusion Matrix of Random Forest Model using TF-IDF Vectorizer for TEXT')"
     },
     "metadata": {}
    },
    {
     "data": {
      "text/plain": "<Figure size 432x288 with 2 Axes>",
      "image/png": "[encoded data removed]"
     },
     "metadata": {
      "needs_background": "light",
      "image/png": {
       "width": 462,
       "height": 278
      }
     },
     "output_type": "display_data"
    }
   ]
  },
  {
   "cell_type": "code",
   "metadata": {
    "tags": [],
    "cell_id": "00030-95f3e426-5e5c-43e2-a765-53a05a47de20",
    "deepnote_to_be_reexecuted": false,
    "source_hash": "7be23ecf",
    "execution_start": 1624555842067,
    "execution_millis": 62167,
    "deepnote_cell_type": "code"
   },
   "source": "# Tf-idf Trigrams\n# Stage 1 classifier + Accuracy\npipeline = make_pipeline(tft_3,DecisionTreeClassifier())\npipeline.fit(x_tl, y_tl)\nprint(\"Accuracy: {}\".format(pipeline.score(X_test, y_test)))\nplot_confusion_matrix(pipeline, X_test, y_test)\nplt.title('Confusion Matrix of Decision Tree Model using TF-IDF trigrams Vectorizer for TEXT')",
   "execution_count": null,
   "outputs": [
    {
     "name": "stdout",
     "text": "Accuracy: 0.6325301204819277\n",
     "output_type": "stream"
    },
    {
     "output_type": "execute_result",
     "execution_count": 19,
     "data": {
      "text/plain": "Text(0.5, 1.0, 'Confusion Matrix of Decision Tree Model using TF-IDF trigrams Vectorizer for TEXT')"
     },
     "metadata": {}
    },
    {
     "data": {
      "text/plain": "<Figure size 432x288 with 2 Axes>",
      "image/png": "[encoded data removed]"
     },
     "metadata": {
      "needs_background": "light",
      "image/png": {
       "width": 507,
       "height": 278
      }
     },
     "output_type": "display_data"
    }
   ]
  },
  {
   "cell_type": "code",
   "metadata": {
    "tags": [],
    "cell_id": "00033-6f0f86e4-5dde-42bd-abe0-f7e5e2e26438",
    "deepnote_to_be_reexecuted": false,
    "source_hash": "efdc6669",
    "execution_start": 1624555904243,
    "execution_millis": 2363858,
    "deepnote_cell_type": "code"
   },
   "source": "# Tf-idf Trigrams\n# Stage 1 classifier + Accuracy\n# Takes ~ > 35 min\npipeline = make_pipeline(tft_3,RandomForestClassifier())\npipeline.fit(x_tl, y_tl)\nprint(\"Accuracy: {}\".format(pipeline.score(X_test, y_test)))\n",
   "execution_count": null,
   "outputs": [
    {
     "name": "stdout",
     "text": "Accuracy: 0.6189759036144579\n",
     "output_type": "stream"
    }
   ]
  },
  {
   "cell_type": "code",
   "metadata": {
    "tags": [],
    "cell_id": "00029-31e27bcd-75eb-4893-be9d-e2b1fba8b1e9",
    "deepnote_to_be_reexecuted": false,
    "source_hash": "dda1063a",
    "execution_start": 1624558268095,
    "execution_millis": 3917,
    "output_cleared": false,
    "deepnote_cell_type": "code"
   },
   "source": "# Plot the confusion matrix for the RF with TF-IDF of Trigrams\nplot_confusion_matrix(pipeline, X_test, y_test)\nplt.title('Confusion Matrix of Random Forest Model using TF-IDF trigrams Vectorizer for TEXT')",
   "execution_count": null,
   "outputs": [
    {
     "output_type": "execute_result",
     "execution_count": 21,
     "data": {
      "text/plain": "Text(0.5, 1.0, 'Confusion Matrix of Random Forest Model using TF-IDF trigrams Vectorizer for TEXT')"
     },
     "metadata": {}
    },
    {
     "data": {
      "text/plain": "<Figure size 432x288 with 2 Axes>",
      "image/png": "[encoded data removed]"
     },
     "metadata": {
      "needs_background": "light",
      "image/png": {
       "width": 517,
       "height": 278
      }
     },
     "output_type": "display_data"
    }
   ]
  },
  {
   "cell_type": "markdown",
   "source": "## 1.4 Text to predicted class",
   "metadata": {
    "tags": [],
    "cell_id": "00028-78add4ab-def5-4374-a5da-bffa767f9c5c",
    "deepnote_cell_type": "markdown"
   }
  },
  {
   "cell_type": "code",
   "metadata": {
    "tags": [],
    "cell_id": "00030-a4808516-f059-4ba4-9481-4dc488717f94",
    "deepnote_to_be_reexecuted": false,
    "source_hash": "ff60e62f",
    "execution_start": 1624658791209,
    "execution_millis": 5,
    "deepnote_cell_type": "code"
   },
   "source": "# Instantiate Models\ndt = DecisionTreeClassifier()\nrf = RandomForestClassifier()\nnb = MultinomialNB()\nsvc = LinearSVC()",
   "execution_count": 16,
   "outputs": []
  },
  {
   "cell_type": "code",
   "metadata": {
    "tags": [],
    "cell_id": "00031-cb01f31e-b7bf-4e13-9c8e-3307c7615800",
    "deepnote_to_be_reexecuted": false,
    "source_hash": "fef09cad",
    "execution_start": 1624658792603,
    "execution_millis": 4,
    "deepnote_cell_type": "code"
   },
   "source": "# Splitting Training Data 80% Train, 20% Test\n#    Don't need to use the pipeline_df_merged dataframe because \n#    it's only difference from merged_df_label is gene and variation\n#    are factorized\nX_train_pred, X_test_pred, y_train_pred, y_test_pred = train_test_split(\n    merged_df_label[\"TEXT\"], merged_df_label[\"Class\"], test_size=0.20)",
   "execution_count": 17,
   "outputs": []
  },
  {
   "cell_type": "code",
   "metadata": {
    "tags": [],
    "cell_id": "00035-a096c9bf-e506-4733-9c8a-d04b24986a72",
    "deepnote_to_be_reexecuted": false,
    "source_hash": "230ab20a",
    "execution_start": 1624658795716,
    "execution_millis": 5552,
    "deepnote_cell_type": "code"
   },
   "source": "# Convert text to word counts with CountVectorizer()\nX_train_pred = cv.fit_transform(X_train_pred)\nX_test_pred = cv.transform(X_test_pred)\n\n# Get Stage 2 Test data so can train model & get predicted classes\nX_test_stage2_pred = cv.transform(merged_df_label_test_stage2[\"TEXT\"])",
   "execution_count": 18,
   "outputs": []
  },
  {
   "cell_type": "code",
   "metadata": {
    "tags": [],
    "cell_id": "00038-53851075-be13-4c6a-8cf1-a2ceeb32cb6b",
    "deepnote_to_be_reexecuted": false,
    "source_hash": "7f8c913f",
    "execution_start": 1624558277008,
    "execution_millis": 23,
    "deepnote_cell_type": "code"
   },
   "source": "# Convert text to word counts with Tf-IDF Trigrams\n#X_train_pred = tft_3.fit_transform(X_train_pred.to_frame())\n#X_test = tft_3.transform(X_test_pred.to_frame())\n\n# Get Stage 2 Test data so can train model & get predicted classes\n#X_test_stage2_text = merged_df_label_test_stage2[\"TEXT\"].to_frame()\n#X_test_stage2 = tft_3.transform(X_test_stage2_text)",
   "execution_count": null,
   "outputs": []
  },
  {
   "cell_type": "code",
   "metadata": {
    "tags": [],
    "cell_id": "00039-70b92088-c8c3-49bc-9e10-bdc76d11779e",
    "deepnote_to_be_reexecuted": false,
    "source_hash": "f748d84a",
    "execution_start": 1624558277042,
    "execution_millis": 9,
    "deepnote_cell_type": "code"
   },
   "source": "# Convert text to word counts with Tf-IDF\n#X_train = tft.fit_transform(X_train.to_frame())\n#X_test = tft.transform(X_test.to_frame())\n\n# Get Stage 2 Test data so can train model & get predicted classes\n#X_test_stage2_text = merged_df_label_test_stage2[\"TEXT\"].to_frame()\n#X_test_stage2 = tft.transform(X_test_stage2_text)",
   "execution_count": null,
   "outputs": []
  },
  {
   "cell_type": "code",
   "metadata": {
    "tags": [],
    "cell_id": "00033-dd8be7bd-05d4-47bd-a0e2-c7f5ecbb07b7",
    "deepnote_to_be_reexecuted": false,
    "source_hash": "6d8d15ef",
    "execution_start": 1624658801276,
    "execution_millis": 75,
    "deepnote_cell_type": "code"
   },
   "source": "# Resampling training data\ntl = RandomOverSampler()\n\n# fit predictor and target variable\nx_tl_pred, y_tl_pred = tl.fit_resample(X_train_pred, y_train_pred)\n\nprint('Original dataset shape', Counter(y_train_pred))\nprint('Resample dataset shape', Counter(y_tl_pred))",
   "execution_count": 19,
   "outputs": [
    {
     "name": "stdout",
     "text": "Original dataset shape Counter({7: 751, 4: 566, 1: 451, 2: 364, 6: 214, 5: 193, 3: 69, 9: 28, 8: 16})\nResample dataset shape Counter({4: 751, 7: 751, 2: 751, 1: 751, 5: 751, 6: 751, 3: 751, 9: 751, 8: 751})\n",
     "output_type": "stream"
    }
   ]
  },
  {
   "cell_type": "code",
   "metadata": {
    "tags": [],
    "cell_id": "00033-dede5973-b5bf-49ad-ab12-d67896260135",
    "deepnote_to_be_reexecuted": false,
    "source_hash": "a0f4404f",
    "execution_start": 1624641205079,
    "execution_millis": 2563,
    "deepnote_cell_type": "code"
   },
   "source": "# Train the model with training data and check accuracy. (Decision Tree)\n# Fit the model\ndt.fit(X_train_pred, y_train_pred)\n# Get predicted classes using X_test\npredicted_class_test = dt.predict(X_test_pred)\n# Plot confusion matrix and get accuracy \nskplt.plot_confusion_matrix(y_test_pred, predicted_class_test)\nprint(\"Accuracy is: {}\".format(accuracy_score(y_test_pred,predicted_class_test)))",
   "outputs": [
    {
     "name": "stderr",
     "text": "/shared-libs/python3.7/py/lib/python3.7/site-packages/sklearn/utils/deprecation.py:86: FutureWarning: Function plot_confusion_matrix is deprecated; This will be removed in v0.4.0. Please use scikitplot.metrics.plot_confusion_matrix instead.\n  warnings.warn(msg, category=FutureWarning)\nAccuracy is: 0.5542168674698795\n",
     "output_type": "stream"
    },
    {
     "data": {
      "text/plain": "<Figure size 432x288 with 2 Axes>",
      "image/png": "[encoded data removed]"
     },
     "metadata": {
      "needs_background": "light",
      "image/png": {
       "width": 312,
       "height": 278
      }
     },
     "output_type": "display_data"
    }
   ],
   "execution_count": null
  },
  {
   "cell_type": "code",
   "metadata": {
    "tags": [],
    "cell_id": "00040-e83ee9fb-2e46-4f17-8041-d347de12bf28",
    "deepnote_to_be_reexecuted": false,
    "source_hash": "b5656d76",
    "execution_start": 1624566148945,
    "execution_millis": 37,
    "deepnote_cell_type": "code"
   },
   "source": "print(classification_report(y_test_pred, predicted_class_test))",
   "execution_count": null,
   "outputs": [
    {
     "name": "stdout",
     "text": "              precision    recall  f1-score   support\n\n           1       0.45      0.49      0.47       102\n           2       0.46      0.44      0.45        88\n           3       0.50      0.35      0.41        23\n           4       0.67      0.67      0.67       151\n           5       0.44      0.40      0.42        58\n           6       0.48      0.55      0.51        49\n           7       0.69      0.68      0.68       188\n           8       0.33      1.00      0.50         1\n           9       0.50      0.50      0.50         4\n\n    accuracy                           0.57       664\n   macro avg       0.50      0.56      0.51       664\nweighted avg       0.57      0.57      0.57       664\n\n",
     "output_type": "stream"
    }
   ]
  },
  {
   "cell_type": "code",
   "metadata": {
    "tags": [],
    "cell_id": "00041-860d1752-6b0e-4f96-9ebf-670121f846cd",
    "deepnote_to_be_reexecuted": false,
    "source_hash": "35c560c6",
    "execution_start": 1624566148975,
    "execution_millis": 65,
    "deepnote_cell_type": "code"
   },
   "source": "cohen_kappa_score(y_test_pred, predicted_class_test)",
   "execution_count": null,
   "outputs": [
    {
     "output_type": "execute_result",
     "execution_count": 109,
     "data": {
      "text/plain": "0.46993278699506513"
     },
     "metadata": {}
    }
   ]
  },
  {
   "cell_type": "code",
   "metadata": {
    "tags": [],
    "cell_id": "00042-ca779fb0-1d00-41bd-a3d8-a5f73d872850",
    "deepnote_to_be_reexecuted": false,
    "source_hash": "e915c792",
    "execution_start": 1624566135484,
    "execution_millis": 22,
    "deepnote_cell_type": "code"
   },
   "source": "matthews_corrcoef(y_test_pred, predicted_class_test)",
   "execution_count": null,
   "outputs": [
    {
     "output_type": "execute_result",
     "execution_count": 106,
     "data": {
      "text/plain": "0.4846913370488775"
     },
     "metadata": {}
    }
   ]
  },
  {
   "cell_type": "code",
   "metadata": {
    "tags": [],
    "cell_id": "00041-42580fa4-5230-4a29-8860-b3262f0f922c",
    "deepnote_to_be_reexecuted": false,
    "source_hash": "fc038c7c",
    "execution_start": 1624658822615,
    "execution_millis": 37815,
    "deepnote_cell_type": "code"
   },
   "source": "# Train the model with training data and check accuracy. (Random Forest)\n# Fit the model\nrf.fit(X_train_pred, y_train_pred)\n# Get predicted classes using X_test\npredicted_class_test = rf.predict(X_test_pred)\n# Plot confusion matrix and get accuracy \nskplt.plot_confusion_matrix(y_test_pred, predicted_class_test)\nprint(\"Accuracy is: {}\".format(accuracy_score(y_test_pred,predicted_class_test)))",
   "execution_count": 21,
   "outputs": [
    {
     "name": "stderr",
     "text": "/shared-libs/python3.7/py/lib/python3.7/site-packages/sklearn/utils/deprecation.py:86: FutureWarning: Function plot_confusion_matrix is deprecated; This will be removed in v0.4.0. Please use scikitplot.metrics.plot_confusion_matrix instead.\n  warnings.warn(msg, category=FutureWarning)\nAccuracy is: 0.6039156626506024\n",
     "output_type": "stream"
    },
    {
     "data": {
      "text/plain": "<Figure size 432x288 with 2 Axes>",
      "image/png": "[encoded data removed]"
     },
     "metadata": {
      "needs_background": "light",
      "image/png": {
       "width": 312,
       "height": 278
      }
     },
     "output_type": "display_data"
    }
   ]
  },
  {
   "cell_type": "code",
   "metadata": {
    "tags": [],
    "cell_id": "00044-ef85872f-12f9-4e3a-9b57-509b4d7a918b",
    "deepnote_to_be_reexecuted": false,
    "source_hash": "b5656d76",
    "execution_start": 1624566239567,
    "execution_millis": 64,
    "deepnote_cell_type": "code"
   },
   "source": "print(classification_report(y_test_pred, predicted_class_test))",
   "execution_count": null,
   "outputs": [
    {
     "name": "stdout",
     "text": "              precision    recall  f1-score   support\n\n           1       0.53      0.57      0.55       102\n           2       0.70      0.42      0.52        88\n           3       0.53      0.35      0.42        23\n           4       0.75      0.73      0.74       151\n           5       0.55      0.38      0.45        58\n           6       0.71      0.55      0.62        49\n           7       0.66      0.89      0.76       188\n           8       0.33      1.00      0.50         1\n           9       1.00      0.75      0.86         4\n\n    accuracy                           0.65       664\n   macro avg       0.64      0.63      0.60       664\nweighted avg       0.66      0.65      0.64       664\n\n",
     "output_type": "stream"
    }
   ]
  },
  {
   "cell_type": "code",
   "metadata": {
    "tags": [],
    "cell_id": "00045-0eb4d4de-6521-461b-97c7-05c2b7422b0d",
    "deepnote_to_be_reexecuted": false,
    "source_hash": "35c560c6",
    "execution_start": 1624566239619,
    "execution_millis": 48,
    "deepnote_cell_type": "code"
   },
   "source": "cohen_kappa_score(y_test_pred, predicted_class_test)",
   "execution_count": null,
   "outputs": [
    {
     "output_type": "execute_result",
     "execution_count": 112,
     "data": {
      "text/plain": "0.5639648590851598"
     },
     "metadata": {}
    }
   ]
  },
  {
   "cell_type": "code",
   "metadata": {
    "tags": [],
    "cell_id": "00046-304f228f-3820-4a95-a453-2f44cb2a78a1",
    "deepnote_to_be_reexecuted": false,
    "source_hash": "e915c792",
    "execution_start": 1624566239659,
    "execution_millis": 31,
    "deepnote_cell_type": "code"
   },
   "source": "matthews_corrcoef(y_test_pred, predicted_class_test)",
   "execution_count": null,
   "outputs": [
    {
     "output_type": "execute_result",
     "execution_count": 113,
     "data": {
      "text/plain": "0.5694877413303301"
     },
     "metadata": {}
    }
   ]
  },
  {
   "cell_type": "code",
   "metadata": {
    "tags": [],
    "cell_id": "00041-f9c7f1f3-fd24-4ad9-a33a-24ceb03389b2",
    "deepnote_to_be_reexecuted": false,
    "source_hash": "4f64d3e1",
    "execution_start": 1624566260586,
    "execution_millis": 1525,
    "deepnote_cell_type": "code"
   },
   "source": "# Train the model with training data and check accuracy.\n# Fit the model\nnb.fit(X_train_pred, y_train_pred)\n# Get predicted classes using X_test\npredicted_class_test = nb.predict(X_test_pred)\n# Plot confusion matrix and get accuracy \nskplt.plot_confusion_matrix(y_test_pred, predicted_class_test)\nprint(\"Accuracy is: {}\".format(accuracy_score(y_test_pred,predicted_class_test)))",
   "execution_count": null,
   "outputs": [
    {
     "name": "stderr",
     "text": "/shared-libs/python3.7/py/lib/python3.7/site-packages/sklearn/utils/deprecation.py:86: FutureWarning: Function plot_confusion_matrix is deprecated; This will be removed in v0.4.0. Please use scikitplot.metrics.plot_confusion_matrix instead.\n  warnings.warn(msg, category=FutureWarning)\nAccuracy is: 0.5617469879518072\n",
     "output_type": "stream"
    },
    {
     "data": {
      "text/plain": "<Figure size 432x288 with 2 Axes>",
      "image/png": "[encoded data removed]"
     },
     "metadata": {
      "needs_background": "light",
      "image/png": {
       "width": 312,
       "height": 278
      }
     },
     "output_type": "display_data"
    }
   ]
  },
  {
   "cell_type": "code",
   "metadata": {
    "tags": [],
    "cell_id": "00048-3ebeb973-6637-41f9-a21c-2fde4896455e",
    "deepnote_to_be_reexecuted": false,
    "source_hash": "b5656d76",
    "execution_start": 1624566262115,
    "execution_millis": 42,
    "deepnote_cell_type": "code"
   },
   "source": "print(classification_report(y_test_pred, predicted_class_test))",
   "execution_count": null,
   "outputs": [
    {
     "name": "stdout",
     "text": "              precision    recall  f1-score   support\n\n           1       0.39      0.47      0.43       102\n           2       0.41      0.50      0.45        88\n           3       0.64      0.30      0.41        23\n           4       0.70      0.53      0.60       151\n           5       0.51      0.57      0.54        58\n           6       0.64      0.55      0.59        49\n           7       0.66      0.69      0.68       188\n           8       0.00      0.00      0.00         1\n           9       0.67      1.00      0.80         4\n\n    accuracy                           0.56       664\n   macro avg       0.51      0.51      0.50       664\nweighted avg       0.58      0.56      0.56       664\n\n/shared-libs/python3.7/py/lib/python3.7/site-packages/sklearn/metrics/_classification.py:1248: UndefinedMetricWarning: Precision and F-score are ill-defined and being set to 0.0 in labels with no predicted samples. Use `zero_division` parameter to control this behavior.\n  _warn_prf(average, modifier, msg_start, len(result))\n/shared-libs/python3.7/py/lib/python3.7/site-packages/sklearn/metrics/_classification.py:1248: UndefinedMetricWarning: Precision and F-score are ill-defined and being set to 0.0 in labels with no predicted samples. Use `zero_division` parameter to control this behavior.\n  _warn_prf(average, modifier, msg_start, len(result))\n/shared-libs/python3.7/py/lib/python3.7/site-packages/sklearn/metrics/_classification.py:1248: UndefinedMetricWarning: Precision and F-score are ill-defined and being set to 0.0 in labels with no predicted samples. Use `zero_division` parameter to control this behavior.\n  _warn_prf(average, modifier, msg_start, len(result))\n",
     "output_type": "stream"
    }
   ]
  },
  {
   "cell_type": "code",
   "metadata": {
    "tags": [],
    "cell_id": "00049-d96c6a13-e42e-4d88-aaa3-f86e77b112f2",
    "deepnote_to_be_reexecuted": false,
    "source_hash": "35c560c6",
    "execution_start": 1624566262150,
    "execution_millis": 38,
    "deepnote_cell_type": "code"
   },
   "source": "cohen_kappa_score(y_test_pred, predicted_class_test)",
   "execution_count": null,
   "outputs": [
    {
     "output_type": "execute_result",
     "execution_count": 116,
     "data": {
      "text/plain": "0.4614220371438844"
     },
     "metadata": {}
    }
   ]
  },
  {
   "cell_type": "code",
   "metadata": {
    "tags": [],
    "cell_id": "00050-93a19982-edb2-4d11-9213-5b9372dcdb9e",
    "deepnote_to_be_reexecuted": false,
    "source_hash": "e915c792",
    "execution_start": 1624566262201,
    "execution_millis": 27,
    "deepnote_cell_type": "code"
   },
   "source": "matthews_corrcoef(y_test_pred, predicted_class_test)",
   "execution_count": null,
   "outputs": [
    {
     "output_type": "execute_result",
     "execution_count": 117,
     "data": {
      "text/plain": "0.46302473092413554"
     },
     "metadata": {}
    }
   ]
  },
  {
   "cell_type": "code",
   "metadata": {
    "tags": [],
    "cell_id": "00043-e9b27f33-36ad-4ca1-914f-b7ee8702a35c",
    "deepnote_to_be_reexecuted": false,
    "source_hash": "43efe64f",
    "execution_start": 1624566272080,
    "execution_millis": 12989,
    "deepnote_cell_type": "code"
   },
   "source": "# Train the model with training data and check accuracy.\n# Fit the model\nsvc.fit(X_train_pred, y_train_pred)\n# Get predicted classes using X_test\npredicted_class_test = svc.predict(X_test_pred)\n# Plot confusion matrix and get accuracy \nskplt.plot_confusion_matrix(y_test_pred, predicted_class_test)\nprint(\"Accuracy is: {}\".format(accuracy_score(y_test_pred,predicted_class_test)))",
   "execution_count": null,
   "outputs": [
    {
     "name": "stderr",
     "text": "/shared-libs/python3.7/py/lib/python3.7/site-packages/sklearn/svm/_base.py:986: ConvergenceWarning: Liblinear failed to converge, increase the number of iterations.\n  \"the number of iterations.\", ConvergenceWarning)\n/shared-libs/python3.7/py/lib/python3.7/site-packages/sklearn/utils/deprecation.py:86: FutureWarning: Function plot_confusion_matrix is deprecated; This will be removed in v0.4.0. Please use scikitplot.metrics.plot_confusion_matrix instead.\n  warnings.warn(msg, category=FutureWarning)\nAccuracy is: 0.5798192771084337\n",
     "output_type": "stream"
    },
    {
     "data": {
      "text/plain": "<Figure size 432x288 with 2 Axes>",
      "image/png": "[encoded data removed]"
     },
     "metadata": {
      "needs_background": "light",
      "image/png": {
       "width": 312,
       "height": 278
      }
     },
     "output_type": "display_data"
    }
   ]
  },
  {
   "cell_type": "code",
   "metadata": {
    "tags": [],
    "cell_id": "00050-81e55011-9406-453a-8568-3400ecec87d2",
    "deepnote_to_be_reexecuted": false,
    "source_hash": "b5656d76",
    "execution_start": 1624566285077,
    "execution_millis": 53,
    "deepnote_cell_type": "code"
   },
   "source": "print(classification_report(y_test_pred, predicted_class_test))",
   "execution_count": null,
   "outputs": [
    {
     "name": "stdout",
     "text": "              precision    recall  f1-score   support\n\n           1       0.48      0.51      0.49       102\n           2       0.49      0.47      0.48        88\n           3       0.45      0.39      0.42        23\n           4       0.69      0.67      0.68       151\n           5       0.40      0.36      0.38        58\n           6       0.52      0.65      0.58        49\n           7       0.68      0.66      0.67       188\n           8       0.25      1.00      0.40         1\n           9       0.75      0.75      0.75         4\n\n    accuracy                           0.58       664\n   macro avg       0.52      0.61      0.54       664\nweighted avg       0.58      0.58      0.58       664\n\n",
     "output_type": "stream"
    }
   ]
  },
  {
   "cell_type": "code",
   "metadata": {
    "tags": [],
    "cell_id": "00053-e6e1abfb-46f8-45ee-812d-80a44847e249",
    "deepnote_to_be_reexecuted": false,
    "source_hash": "35c560c6",
    "execution_start": 1624566285123,
    "execution_millis": 28,
    "deepnote_cell_type": "code"
   },
   "source": "cohen_kappa_score(y_test_pred, predicted_class_test)",
   "execution_count": null,
   "outputs": [
    {
     "output_type": "execute_result",
     "execution_count": 120,
     "data": {
      "text/plain": "0.4844533991578983"
     },
     "metadata": {}
    }
   ]
  },
  {
   "cell_type": "code",
   "metadata": {
    "tags": [],
    "cell_id": "00054-c0c61a77-6a70-4314-84b9-e2f32071e22d",
    "deepnote_to_be_reexecuted": false,
    "source_hash": "e915c792",
    "execution_start": 1624566285152,
    "execution_millis": 20,
    "deepnote_cell_type": "code"
   },
   "source": "matthews_corrcoef(y_test_pred, predicted_class_test)",
   "execution_count": null,
   "outputs": []
  },
  {
   "cell_type": "markdown",
   "source": "**Random forests produced the best results therefore this is the data we will use to feed into the stacked model.**",
   "metadata": {
    "tags": [],
    "cell_id": "00055-88ac5880-9a47-4208-943c-de0ac924d5f7",
    "deepnote_cell_type": "markdown"
   }
  },
  {
   "cell_type": "markdown",
   "source": "## 1.5 Random Forest Model - Genes + Variations + Predicted Class (from text)",
   "metadata": {
    "tags": [],
    "cell_id": "00031-80f6c7e1-5e45-47cd-a545-528ef4c972c5",
    "deepnote_cell_type": "markdown"
   }
  },
  {
   "cell_type": "code",
   "metadata": {
    "tags": [],
    "cell_id": "00037-6e949cb6-3119-4505-9480-b65011ab011c",
    "deepnote_to_be_reexecuted": false,
    "source_hash": "f3af09aa",
    "execution_start": 1624658860431,
    "execution_millis": 4653,
    "deepnote_cell_type": "code"
   },
   "source": "# Use the model to predict the classes for the entire merged_df_label. \n# Then use this data in the next part of the model\n#    This is because we want the predicted classes for all of our rows, not\n#    just the rows that we previously sampled.\npredicted_class = rf.predict(cv.transform(merged_df_label[\"TEXT\"]))",
   "execution_count": 22,
   "outputs": []
  },
  {
   "cell_type": "code",
   "metadata": {
    "tags": [],
    "cell_id": "00039-bb3ce51e-eb4e-4297-9f9e-6a5ef0e72adb",
    "deepnote_to_be_reexecuted": false,
    "source_hash": "8d7fb80b",
    "execution_start": 1624658865108,
    "execution_millis": 170,
    "deepnote_cell_type": "code"
   },
   "source": "# Get predicted classes for our stage 2 test data.\npredicted_test_class_stage2 = rf.predict(X_test_stage2_pred)",
   "execution_count": 23,
   "outputs": []
  },
  {
   "cell_type": "code",
   "metadata": {
    "tags": [],
    "cell_id": "00038-fc817e5c-a73f-4a26-a47e-a8ec42d42b86",
    "deepnote_to_be_reexecuted": false,
    "source_hash": "332dae56",
    "execution_start": 1624658865284,
    "execution_millis": 30,
    "deepnote_cell_type": "code"
   },
   "source": "# Copy our dataframes, so we can prevent unexpected problems while modifying them.\nmerged_to_use = merged_df_label.copy()\nmerged_to_use_test = merged_df_label_test_stage2.copy()",
   "execution_count": 24,
   "outputs": []
  },
  {
   "cell_type": "code",
   "metadata": {
    "tags": [],
    "cell_id": "00038-826a3822-6ce0-4a18-b7df-ffb78a8a6ae9",
    "deepnote_to_be_reexecuted": false,
    "source_hash": "422c1bd1",
    "execution_start": 1624658865321,
    "execution_millis": 9,
    "deepnote_cell_type": "code"
   },
   "source": "# Modify merged_to_use dataframes\nmerged_to_use[\"PredictedClass\"] = pd.Series(predicted_class)\ndel merged_to_use[\"Gene\"]\ndel merged_to_use[\"Variation\"]\ndel merged_to_use[\"Class\"]\ndel merged_to_use[\"TEXT\"]\n# merged_to_use features: 'ID', 'PredictedClass'\n\nmerged_to_use_test[\"PredictedClass\"] = pd.Series(predicted_test_class_stage2)\ndel merged_to_use_test[\"Gene\"]\ndel merged_to_use_test[\"Variation\"]\ndel merged_to_use_test[\"TEXT\"]\n# merged_to_use_test features: 'ID', 'PredictedClass'",
   "execution_count": 25,
   "outputs": []
  },
  {
   "cell_type": "code",
   "metadata": {
    "tags": [],
    "cell_id": "00045-f2b8f49d-1627-4828-a79d-00bb1e8db789",
    "deepnote_to_be_reexecuted": false,
    "source_hash": "9ec96204",
    "execution_start": 1624658865334,
    "execution_millis": 19,
    "deepnote_cell_type": "code"
   },
   "source": "# Merging the PredictedClass to the pipeline_df_merged\n# Using the pipeline_df_merged instead of merged_df_label because \n# variables are already factorized (except TEXT).\nmerged_df_label_resample = pd.merge(pipeline_df_merged, merged_to_use, on=\"ID\")\nmerged_df_label_resample_test = pd.merge(pipeline_test_df_merged, merged_to_use_test, on=\"ID\")",
   "execution_count": 26,
   "outputs": []
  },
  {
   "cell_type": "code",
   "metadata": {
    "tags": [],
    "cell_id": "00046-bd72bd90-7664-4eef-9c7a-a37420f6bbdf",
    "deepnote_to_be_reexecuted": false,
    "source_hash": "22d69fab",
    "execution_start": 1624658865358,
    "execution_millis": 75,
    "deepnote_cell_type": "code"
   },
   "source": "merged_df_label_resample.head(n=1)",
   "execution_count": 27,
   "outputs": [
    {
     "output_type": "execute_result",
     "execution_count": 27,
     "data": {
      "application/vnd.deepnote.dataframe.v2+json": {
       "row_count": 1,
       "column_count": 6,
       "columns": [
        {
         "name": "ID",
         "dtype": "int64",
         "stats": {
          "unique_count": 1,
          "nan_count": 0,
          "min": "0",
          "max": "0",
          "histogram": [
           {
            "bin_start": -0.5,
            "bin_end": -0.4,
            "count": 0
           },
           {
            "bin_start": -0.4,
            "bin_end": -0.3,
            "count": 0
           },
           {
            "bin_start": -0.3,
            "bin_end": -0.19999999999999996,
            "count": 0
           },
           {
            "bin_start": -0.19999999999999996,
            "bin_end": -0.09999999999999998,
            "count": 0
           },
           {
            "bin_start": -0.09999999999999998,
            "bin_end": 0,
            "count": 0
           },
           {
            "bin_start": 0,
            "bin_end": 0.10000000000000009,
            "count": 1
           },
           {
            "bin_start": 0.10000000000000009,
            "bin_end": 0.20000000000000007,
            "count": 0
           },
           {
            "bin_start": 0.20000000000000007,
            "bin_end": 0.30000000000000004,
            "count": 0
           },
           {
            "bin_start": 0.30000000000000004,
            "bin_end": 0.4,
            "count": 0
           },
           {
            "bin_start": 0.4,
            "bin_end": 0.5,
            "count": 0
           }
          ]
         }
        },
        {
         "name": "Gene",
         "dtype": "int64",
         "stats": {
          "unique_count": 1,
          "nan_count": 0,
          "min": "0",
          "max": "0",
          "histogram": [
           {
            "bin_start": -0.5,
            "bin_end": -0.4,
            "count": 0
           },
           {
            "bin_start": -0.4,
            "bin_end": -0.3,
            "count": 0
           },
           {
            "bin_start": -0.3,
            "bin_end": -0.19999999999999996,
            "count": 0
           },
           {
            "bin_start": -0.19999999999999996,
            "bin_end": -0.09999999999999998,
            "count": 0
           },
           {
            "bin_start": -0.09999999999999998,
            "bin_end": 0,
            "count": 0
           },
           {
            "bin_start": 0,
            "bin_end": 0.10000000000000009,
            "count": 1
           },
           {
            "bin_start": 0.10000000000000009,
            "bin_end": 0.20000000000000007,
            "count": 0
           },
           {
            "bin_start": 0.20000000000000007,
            "bin_end": 0.30000000000000004,
            "count": 0
           },
           {
            "bin_start": 0.30000000000000004,
            "bin_end": 0.4,
            "count": 0
           },
           {
            "bin_start": 0.4,
            "bin_end": 0.5,
            "count": 0
           }
          ]
         }
        },
        {
         "name": "Variation",
         "dtype": "int64",
         "stats": {
          "unique_count": 1,
          "nan_count": 0,
          "min": "0",
          "max": "0",
          "histogram": [
           {
            "bin_start": -0.5,
            "bin_end": -0.4,
            "count": 0
           },
           {
            "bin_start": -0.4,
            "bin_end": -0.3,
            "count": 0
           },
           {
            "bin_start": -0.3,
            "bin_end": -0.19999999999999996,
            "count": 0
           },
           {
            "bin_start": -0.19999999999999996,
            "bin_end": -0.09999999999999998,
            "count": 0
           },
           {
            "bin_start": -0.09999999999999998,
            "bin_end": 0,
            "count": 0
           },
           {
            "bin_start": 0,
            "bin_end": 0.10000000000000009,
            "count": 1
           },
           {
            "bin_start": 0.10000000000000009,
            "bin_end": 0.20000000000000007,
            "count": 0
           },
           {
            "bin_start": 0.20000000000000007,
            "bin_end": 0.30000000000000004,
            "count": 0
           },
           {
            "bin_start": 0.30000000000000004,
            "bin_end": 0.4,
            "count": 0
           },
           {
            "bin_start": 0.4,
            "bin_end": 0.5,
            "count": 0
           }
          ]
         }
        },
        {
         "name": "Class",
         "dtype": "int64",
         "stats": {
          "unique_count": 1,
          "nan_count": 0,
          "min": "1",
          "max": "1",
          "histogram": [
           {
            "bin_start": 0.5,
            "bin_end": 0.6,
            "count": 0
           },
           {
            "bin_start": 0.6,
            "bin_end": 0.7,
            "count": 0
           },
           {
            "bin_start": 0.7,
            "bin_end": 0.8,
            "count": 0
           },
           {
            "bin_start": 0.8,
            "bin_end": 0.9,
            "count": 0
           },
           {
            "bin_start": 0.9,
            "bin_end": 1,
            "count": 0
           },
           {
            "bin_start": 1,
            "bin_end": 1.1,
            "count": 1
           },
           {
            "bin_start": 1.1,
            "bin_end": 1.2000000000000002,
            "count": 0
           },
           {
            "bin_start": 1.2000000000000002,
            "bin_end": 1.3,
            "count": 0
           },
           {
            "bin_start": 1.3,
            "bin_end": 1.4,
            "count": 0
           },
           {
            "bin_start": 1.4,
            "bin_end": 1.5,
            "count": 0
           }
          ]
         }
        },
        {
         "name": "TEXT",
         "dtype": "object",
         "stats": {
          "unique_count": 1,
          "nan_count": 0,
          "categories": [
           {
            "name": "last activ identifi reveal elus silenc silenc increas confer increas deriv attribut decreas shed underli fundament cellular discov identifi posit deorphan identifi unknown silenc silenc increas induc increas deriv attribut decreas observ previou unveil strong propos test differ origin splice truncat correspond hypothet mutat new schemat differ analyz black intern express interact express transcript use indic known western obtain use western obtain use lower observ upper express untag endogen next examin express test dead increas increas immunoprecipit detect coexpress confirm detect confirm endogen perform nontransfect deriv detect obtain physic hypothes produc detect coexpress express differ purifi complex determin ad visual stain lower investig involv regulatori silenc caus phosphoryl expect silenc decreas similar new western endogen mediat silenc shown upper lower silenc short live degrad examin silenc endogen attribut increas fluctuat silenc examin tag express decreas coexpress endogen compar major observ deriv shown western express cotransfect empti coexpress tag verifi western shown expect detect small reproduc signific compar establish direct examin contrari shown involv mediat contrari remain insensit studi deriv predict splice preced detect increas compar show decreas similar decreas observ deriv express decreas deriv increas shown western deriv transfect empti direct previou last discov associ genet unknown splice import regul function support differ much reduc endogen observ silenc least demonstr name truncat correspond hypothet associ give truncat affect compromis least specif known report silenc usual shown direct dock allow dock mediat atyp formal involv concert signific biolog medic second understand caus associ reduc clinic posit show sever observ caus least increas variou includ reveal autonom gener biolog particular sever exhibit import previou methodsclon detail grew supplement grew supplement transfect collect scrape lyse contain perform total ad incub rotat ad incub rotat ad wash denatur western use follow made reveal enhanc supersign scientif infect produc coinfect produc collect lyse collect solubl ad transform resuspend contain collect solubl ad scientif incub contain collect elut incub ad denatur stain contain dri detect incorpor similar report supplementari characterist facial broad variabl hypoplast anal urogenit observ clinic anal hypoplast shown repres span posit schemat code extend includ predict deleteri conserv next carri wide high supplementari affect individu lower identifi heterozyg remov use real confirm exclud unaffect supplementari custom enrich follow clone defin use find overlap avail detect heterozyg overlap supplementari use target clone identifi remov includ heterozyg remain supplementari supplementari identifi valid independ sequenc seen unaffect larger involv unrel complet skew complet skew suggest carri activ find addit mutat inactiv subject gave unaffect avail report unknown note list homolog true flank conserv detect homozyg encod viabl small reduc transcript caus carri find similar observ supplementari support particip retin reduc retin carri follow differ specif result signific transfect supplementari supplementari support homogen clinic homogen includ mutat direct explor explain direct locat overlap associ clinic overlap observ implic known link",
            "count": 1
           }
          ]
         }
        },
        {
         "name": "PredictedClass",
         "dtype": "int64",
         "stats": {
          "unique_count": 1,
          "nan_count": 0,
          "min": "1",
          "max": "1",
          "histogram": [
           {
            "bin_start": 0.5,
            "bin_end": 0.6,
            "count": 0
           },
           {
            "bin_start": 0.6,
            "bin_end": 0.7,
            "count": 0
           },
           {
            "bin_start": 0.7,
            "bin_end": 0.8,
            "count": 0
           },
           {
            "bin_start": 0.8,
            "bin_end": 0.9,
            "count": 0
           },
           {
            "bin_start": 0.9,
            "bin_end": 1,
            "count": 0
           },
           {
            "bin_start": 1,
            "bin_end": 1.1,
            "count": 1
           },
           {
            "bin_start": 1.1,
            "bin_end": 1.2000000000000002,
            "count": 0
           },
           {
            "bin_start": 1.2000000000000002,
            "bin_end": 1.3,
            "count": 0
           },
           {
            "bin_start": 1.3,
            "bin_end": 1.4,
            "count": 0
           },
           {
            "bin_start": 1.4,
            "bin_end": 1.5,
            "count": 0
           }
          ]
         }
        },
        {
         "name": "_deepnote_index_column",
         "dtype": "int64"
        }
       ],
       "rows_top": [
        {
         "ID": 0,
         "Gene": 0,
         "Variation": 0,
         "Class": 1,
         "TEXT": "last activ identifi reveal elus silenc silenc increas confer increas deriv attribut decreas shed un…",
         "PredictedClass": 1,
         "_deepnote_index_column": 0
        }
       ],
       "rows_bottom": null
      },
      "text/plain": "   ID  Gene  Variation  Class  \\\n0   0     0          0      1   \n\n                                                TEXT  PredictedClass  \n0  last activ identifi reveal elus silenc silenc ...               1  ",
      "text/html": "<div>\n<style scoped>\n    .dataframe tbody tr th:only-of-type {\n        vertical-align: middle;\n    }\n\n    .dataframe tbody tr th {\n        vertical-align: top;\n    }\n\n    .dataframe thead th {\n        text-align: right;\n    }\n</style>\n<table border=\"1\" class=\"dataframe\">\n  <thead>\n    <tr style=\"text-align: right;\">\n      <th></th>\n      <th>ID</th>\n      <th>Gene</th>\n      <th>Variation</th>\n      <th>Class</th>\n      <th>TEXT</th>\n      <th>PredictedClass</th>\n    </tr>\n  </thead>\n  <tbody>\n    <tr>\n      <th>0</th>\n      <td>0</td>\n      <td>0</td>\n      <td>0</td>\n      <td>1</td>\n      <td>last activ identifi reveal elus silenc silenc ...</td>\n      <td>1</td>\n    </tr>\n  </tbody>\n</table>\n</div>"
     },
     "metadata": {}
    }
   ]
  },
  {
   "cell_type": "code",
   "metadata": {
    "tags": [],
    "cell_id": "00044-3e90c21b-6dac-4132-a524-b71a2e5449bd",
    "deepnote_to_be_reexecuted": false,
    "source_hash": "12c09fbb",
    "execution_start": 1624658865430,
    "execution_millis": 37,
    "deepnote_cell_type": "code"
   },
   "source": "del merged_df_label_resample_test[\"TEXT\"]\ndel merged_df_label_resample_test[\"ID\"]\nmerged_df_label_resample_test.head(n=1)",
   "execution_count": 28,
   "outputs": [
    {
     "output_type": "execute_result",
     "execution_count": 28,
     "data": {
      "application/vnd.deepnote.dataframe.v2+json": {
       "row_count": 1,
       "column_count": 3,
       "columns": [
        {
         "name": "Gene",
         "dtype": "int64",
         "stats": {
          "unique_count": 1,
          "nan_count": 0,
          "min": "0",
          "max": "0",
          "histogram": [
           {
            "bin_start": -0.5,
            "bin_end": -0.4,
            "count": 0
           },
           {
            "bin_start": -0.4,
            "bin_end": -0.3,
            "count": 0
           },
           {
            "bin_start": -0.3,
            "bin_end": -0.19999999999999996,
            "count": 0
           },
           {
            "bin_start": -0.19999999999999996,
            "bin_end": -0.09999999999999998,
            "count": 0
           },
           {
            "bin_start": -0.09999999999999998,
            "bin_end": 0,
            "count": 0
           },
           {
            "bin_start": 0,
            "bin_end": 0.10000000000000009,
            "count": 1
           },
           {
            "bin_start": 0.10000000000000009,
            "bin_end": 0.20000000000000007,
            "count": 0
           },
           {
            "bin_start": 0.20000000000000007,
            "bin_end": 0.30000000000000004,
            "count": 0
           },
           {
            "bin_start": 0.30000000000000004,
            "bin_end": 0.4,
            "count": 0
           },
           {
            "bin_start": 0.4,
            "bin_end": 0.5,
            "count": 0
           }
          ]
         }
        },
        {
         "name": "Variation",
         "dtype": "int64",
         "stats": {
          "unique_count": 1,
          "nan_count": 0,
          "min": "0",
          "max": "0",
          "histogram": [
           {
            "bin_start": -0.5,
            "bin_end": -0.4,
            "count": 0
           },
           {
            "bin_start": -0.4,
            "bin_end": -0.3,
            "count": 0
           },
           {
            "bin_start": -0.3,
            "bin_end": -0.19999999999999996,
            "count": 0
           },
           {
            "bin_start": -0.19999999999999996,
            "bin_end": -0.09999999999999998,
            "count": 0
           },
           {
            "bin_start": -0.09999999999999998,
            "bin_end": 0,
            "count": 0
           },
           {
            "bin_start": 0,
            "bin_end": 0.10000000000000009,
            "count": 1
           },
           {
            "bin_start": 0.10000000000000009,
            "bin_end": 0.20000000000000007,
            "count": 0
           },
           {
            "bin_start": 0.20000000000000007,
            "bin_end": 0.30000000000000004,
            "count": 0
           },
           {
            "bin_start": 0.30000000000000004,
            "bin_end": 0.4,
            "count": 0
           },
           {
            "bin_start": 0.4,
            "bin_end": 0.5,
            "count": 0
           }
          ]
         }
        },
        {
         "name": "PredictedClass",
         "dtype": "int64",
         "stats": {
          "unique_count": 1,
          "nan_count": 0,
          "min": "4",
          "max": "4",
          "histogram": [
           {
            "bin_start": 3.5,
            "bin_end": 3.6,
            "count": 0
           },
           {
            "bin_start": 3.6,
            "bin_end": 3.7,
            "count": 0
           },
           {
            "bin_start": 3.7,
            "bin_end": 3.8,
            "count": 0
           },
           {
            "bin_start": 3.8,
            "bin_end": 3.9,
            "count": 0
           },
           {
            "bin_start": 3.9,
            "bin_end": 4,
            "count": 0
           },
           {
            "bin_start": 4,
            "bin_end": 4.1,
            "count": 1
           },
           {
            "bin_start": 4.1,
            "bin_end": 4.2,
            "count": 0
           },
           {
            "bin_start": 4.2,
            "bin_end": 4.3,
            "count": 0
           },
           {
            "bin_start": 4.3,
            "bin_end": 4.4,
            "count": 0
           },
           {
            "bin_start": 4.4,
            "bin_end": 4.5,
            "count": 0
           }
          ]
         }
        },
        {
         "name": "_deepnote_index_column",
         "dtype": "int64"
        }
       ],
       "rows_top": [
        {
         "Gene": 0,
         "Variation": 0,
         "PredictedClass": 4,
         "_deepnote_index_column": 0
        }
       ],
       "rows_bottom": null
      },
      "text/plain": "   Gene  Variation  PredictedClass\n0     0          0               4",
      "text/html": "<div>\n<style scoped>\n    .dataframe tbody tr th:only-of-type {\n        vertical-align: middle;\n    }\n\n    .dataframe tbody tr th {\n        vertical-align: top;\n    }\n\n    .dataframe thead th {\n        text-align: right;\n    }\n</style>\n<table border=\"1\" class=\"dataframe\">\n  <thead>\n    <tr style=\"text-align: right;\">\n      <th></th>\n      <th>Gene</th>\n      <th>Variation</th>\n      <th>PredictedClass</th>\n    </tr>\n  </thead>\n  <tbody>\n    <tr>\n      <th>0</th>\n      <td>0</td>\n      <td>0</td>\n      <td>4</td>\n    </tr>\n  </tbody>\n</table>\n</div>"
     },
     "metadata": {}
    }
   ]
  },
  {
   "cell_type": "code",
   "metadata": {
    "tags": [],
    "cell_id": "00046-2ab29f2c-4840-4fbf-81d1-633f02a970aa",
    "deepnote_to_be_reexecuted": false,
    "source_hash": "ffff0e3f",
    "execution_start": 1624658865460,
    "execution_millis": 11,
    "deepnote_cell_type": "code"
   },
   "source": "# Split merged_df_label_resample, so it can be resampled\n# Using an 80% Training, 20% Test Split\nX_train_p_all, X_test_p_all, y_train_p_all, y_test_p_all = train_test_split(\n    merged_df_label_resample[[\"Gene\", \"Variation\", 'PredictedClass']],\n    merged_df_label_resample[\"Class\"],\n    test_size=0.20)",
   "execution_count": 29,
   "outputs": []
  },
  {
   "cell_type": "code",
   "metadata": {
    "tags": [],
    "cell_id": "00048-dafef1ba-131b-4d5d-bd4b-d7c0472855ab",
    "deepnote_to_be_reexecuted": false,
    "source_hash": "6ade0c62",
    "execution_start": 1624658865482,
    "execution_millis": 59,
    "deepnote_cell_type": "code"
   },
   "source": "X_train_p_all.head(n=1)",
   "execution_count": 30,
   "outputs": [
    {
     "output_type": "execute_result",
     "execution_count": 30,
     "data": {
      "application/vnd.deepnote.dataframe.v2+json": {
       "row_count": 1,
       "column_count": 3,
       "columns": [
        {
         "name": "Gene",
         "dtype": "int64",
         "stats": {
          "unique_count": 1,
          "nan_count": 0,
          "min": "194",
          "max": "194",
          "histogram": [
           {
            "bin_start": 193.5,
            "bin_end": 193.6,
            "count": 0
           },
           {
            "bin_start": 193.6,
            "bin_end": 193.7,
            "count": 0
           },
           {
            "bin_start": 193.7,
            "bin_end": 193.8,
            "count": 0
           },
           {
            "bin_start": 193.8,
            "bin_end": 193.9,
            "count": 0
           },
           {
            "bin_start": 193.9,
            "bin_end": 194,
            "count": 0
           },
           {
            "bin_start": 194,
            "bin_end": 194.1,
            "count": 1
           },
           {
            "bin_start": 194.1,
            "bin_end": 194.2,
            "count": 0
           },
           {
            "bin_start": 194.2,
            "bin_end": 194.3,
            "count": 0
           },
           {
            "bin_start": 194.3,
            "bin_end": 194.4,
            "count": 0
           },
           {
            "bin_start": 194.4,
            "bin_end": 194.5,
            "count": 0
           }
          ]
         }
        },
        {
         "name": "Variation",
         "dtype": "int64",
         "stats": {
          "unique_count": 1,
          "nan_count": 0,
          "min": "3",
          "max": "3",
          "histogram": [
           {
            "bin_start": 2.5,
            "bin_end": 2.6,
            "count": 0
           },
           {
            "bin_start": 2.6,
            "bin_end": 2.7,
            "count": 0
           },
           {
            "bin_start": 2.7,
            "bin_end": 2.8,
            "count": 0
           },
           {
            "bin_start": 2.8,
            "bin_end": 2.9,
            "count": 0
           },
           {
            "bin_start": 2.9,
            "bin_end": 3,
            "count": 0
           },
           {
            "bin_start": 3,
            "bin_end": 3.1,
            "count": 1
           },
           {
            "bin_start": 3.1,
            "bin_end": 3.2,
            "count": 0
           },
           {
            "bin_start": 3.2,
            "bin_end": 3.3,
            "count": 0
           },
           {
            "bin_start": 3.3,
            "bin_end": 3.4,
            "count": 0
           },
           {
            "bin_start": 3.4,
            "bin_end": 3.5,
            "count": 0
           }
          ]
         }
        },
        {
         "name": "PredictedClass",
         "dtype": "int64",
         "stats": {
          "unique_count": 1,
          "nan_count": 0,
          "min": "4",
          "max": "4",
          "histogram": [
           {
            "bin_start": 3.5,
            "bin_end": 3.6,
            "count": 0
           },
           {
            "bin_start": 3.6,
            "bin_end": 3.7,
            "count": 0
           },
           {
            "bin_start": 3.7,
            "bin_end": 3.8,
            "count": 0
           },
           {
            "bin_start": 3.8,
            "bin_end": 3.9,
            "count": 0
           },
           {
            "bin_start": 3.9,
            "bin_end": 4,
            "count": 0
           },
           {
            "bin_start": 4,
            "bin_end": 4.1,
            "count": 1
           },
           {
            "bin_start": 4.1,
            "bin_end": 4.2,
            "count": 0
           },
           {
            "bin_start": 4.2,
            "bin_end": 4.3,
            "count": 0
           },
           {
            "bin_start": 4.3,
            "bin_end": 4.4,
            "count": 0
           },
           {
            "bin_start": 4.4,
            "bin_end": 4.5,
            "count": 0
           }
          ]
         }
        },
        {
         "name": "_deepnote_index_column",
         "dtype": "int64"
        }
       ],
       "rows_top": [
        {
         "Gene": 194,
         "Variation": 3,
         "PredictedClass": 4,
         "_deepnote_index_column": 2157
        }
       ],
       "rows_bottom": null
      },
      "text/plain": "      Gene  Variation  PredictedClass\n2157   194          3               4",
      "text/html": "<div>\n<style scoped>\n    .dataframe tbody tr th:only-of-type {\n        vertical-align: middle;\n    }\n\n    .dataframe tbody tr th {\n        vertical-align: top;\n    }\n\n    .dataframe thead th {\n        text-align: right;\n    }\n</style>\n<table border=\"1\" class=\"dataframe\">\n  <thead>\n    <tr style=\"text-align: right;\">\n      <th></th>\n      <th>Gene</th>\n      <th>Variation</th>\n      <th>PredictedClass</th>\n    </tr>\n  </thead>\n  <tbody>\n    <tr>\n      <th>2157</th>\n      <td>194</td>\n      <td>3</td>\n      <td>4</td>\n    </tr>\n  </tbody>\n</table>\n</div>"
     },
     "metadata": {}
    }
   ]
  },
  {
   "cell_type": "code",
   "metadata": {
    "tags": [],
    "cell_id": "00049-4a1567dc-d25f-4208-969b-8579fc019dec",
    "deepnote_to_be_reexecuted": false,
    "source_hash": "deb3c5f",
    "execution_start": 1624658865590,
    "execution_millis": 9,
    "deepnote_cell_type": "code"
   },
   "source": "y_train_p_all.head(n=1)",
   "execution_count": 31,
   "outputs": [
    {
     "output_type": "execute_result",
     "execution_count": 31,
     "data": {
      "text/plain": "2157    4\nName: Class, dtype: int64"
     },
     "metadata": {}
    }
   ]
  },
  {
   "cell_type": "code",
   "metadata": {
    "tags": [],
    "cell_id": "00046-36cff181-03dc-481d-831d-13d8d8dd6c71",
    "deepnote_to_be_reexecuted": false,
    "source_hash": "7fddea7b",
    "execution_start": 1624658865591,
    "execution_millis": 8,
    "deepnote_cell_type": "code"
   },
   "source": "# Resample the training variables from  merged_df_label_resample\ntl = RandomOverSampler()\n\n# Fit predictor and target variable\nx_tl_p_all, y_tl_p_all = tl.fit_resample(X_train_p_all, y_train_p_all)\n\nprint('Original dataset shape', Counter(y_train_p_all))\nprint('Resample dataset shape', Counter(y_tl_p_all))",
   "execution_count": 32,
   "outputs": [
    {
     "name": "stdout",
     "text": "Original dataset shape Counter({7: 760, 4: 542, 1: 457, 2: 362, 6: 219, 5: 199, 3: 72, 9: 27, 8: 14})\nResample dataset shape Counter({4: 760, 1: 760, 7: 760, 6: 760, 3: 760, 5: 760, 2: 760, 8: 760, 9: 760})\n",
     "output_type": "stream"
    }
   ]
  },
  {
   "cell_type": "code",
   "metadata": {
    "tags": [],
    "cell_id": "00055-8a191cb1-30d5-4d93-9c00-9eea2d83cdcf",
    "deepnote_to_be_reexecuted": false,
    "source_hash": "b2018b25",
    "execution_start": 1624641258486,
    "execution_millis": 534,
    "deepnote_cell_type": "code"
   },
   "source": "rf.fit(x_tl_p_all, y_tl_p_all)",
   "outputs": [
    {
     "output_type": "execute_result",
     "execution_count": 29,
     "data": {
      "text/plain": "RandomForestClassifier()"
     },
     "metadata": {}
    }
   ],
   "execution_count": null
  },
  {
   "cell_type": "code",
   "metadata": {
    "tags": [],
    "cell_id": "00059-0e87d79e-bd9e-4680-8e8a-abf9a3a22263",
    "deepnote_to_be_reexecuted": false,
    "source_hash": "1873d578",
    "execution_start": 1624558332259,
    "execution_millis": 1350,
    "deepnote_cell_type": "code"
   },
   "source": "plot_confusion_matrix(rf, X_test_p_all, y_test_p_all)\nplt.title('Confusion Matrix of Random Forest Model using \"Predicted_Class\"')  \nplt.show()  ",
   "execution_count": null,
   "outputs": [
    {
     "data": {
      "text/plain": "<Figure size 432x288 with 2 Axes>",
      "image/png": "[encoded data removed]"
     },
     "metadata": {
      "needs_background": "light",
      "image/png": {
       "width": 411,
       "height": 278
      }
     },
     "output_type": "display_data"
    }
   ]
  },
  {
   "cell_type": "code",
   "metadata": {
    "tags": [],
    "cell_id": "00061-64efa4b8-7d67-4dc5-8e8b-37ee70cb7f9f",
    "deepnote_to_be_reexecuted": false,
    "source_hash": "1497db05",
    "execution_start": 1624558333606,
    "execution_millis": 81,
    "deepnote_cell_type": "code"
   },
   "source": "rf.score(X_test_p_all, y_test_p_all)",
   "execution_count": null,
   "outputs": [
    {
     "output_type": "execute_result",
     "execution_count": 45,
     "data": {
      "text/plain": "0.7771084337349398"
     },
     "metadata": {}
    }
   ]
  },
  {
   "cell_type": "markdown",
   "source": "## 1.6 Benchmarking with Multi Class Loss\n\n* Logistic Regression\n* Multinomial Naive Bayes\n* Support Vector Classification\n* Random Forest",
   "metadata": {
    "tags": [],
    "cell_id": "00042-12837515-c151-44e9-944b-5fb2658101e0",
    "deepnote_cell_type": "markdown"
   }
  },
  {
   "cell_type": "code",
   "metadata": {
    "tags": [],
    "cell_id": "00057-643fc541-2aa7-4842-8369-b25efaabc95f",
    "deepnote_to_be_reexecuted": false,
    "source_hash": "f4b32b0d",
    "execution_start": 1624658865798,
    "execution_millis": 6,
    "deepnote_cell_type": "code"
   },
   "source": "# Define the models being used.\n\nmodels = [\n    RandomForestClassifier(n_estimators=1000, max_depth=20, random_state=0),\n    SVC(probability=True),\n    MultinomialNB(alpha=0.01),\n    LogisticRegression(random_state=0, max_iter=1000)\n]",
   "execution_count": 33,
   "outputs": []
  },
  {
   "cell_type": "markdown",
   "source": "### 1.6.1 Benchmarking with Predicted Class - Multi Class Loss",
   "metadata": {
    "tags": [],
    "cell_id": "00057-49619546-8c7a-4a6f-bbf0-7ab3f73911cc",
    "deepnote_cell_type": "markdown"
   }
  },
  {
   "cell_type": "code",
   "metadata": {
    "tags": [],
    "cell_id": "00059-29069d51-b5ac-446d-a482-7663f44d1542",
    "deepnote_to_be_reexecuted": false,
    "source_hash": "e42201d4",
    "execution_start": 1624641663869,
    "execution_millis": 1,
    "deepnote_cell_type": "code"
   },
   "source": "# Set the training and test variables for the models.\n#    x_tl_p_all and y_tl_p_all are from section 1.5\n#    They are resampled, gene and variation are factorized data for training\nX_tl_bench_p = x_tl_p_all # Features: 'Gene', 'Variation', 'PredictedClass'\ny_tl_bench_p = y_tl_p_all # Features: 'Class'",
   "outputs": [],
   "execution_count": null
  },
  {
   "cell_type": "code",
   "metadata": {
    "tags": [],
    "cell_id": "00059-3331c8a9-fe90-4a2b-8d54-4c51af992e2a",
    "deepnote_to_be_reexecuted": false,
    "source_hash": "4ab4788f",
    "execution_start": 1624641665966,
    "execution_millis": 283809,
    "is_output_hidden": false,
    "deepnote_cell_type": "code"
   },
   "source": "# Run the individual models & get their accuracies.\n\nCV = 10\ncv_df = pd.DataFrame(index=range(CV * len(models)))\nentries = []\nfor model in models:\n  model_name = model.__class__.__name__\n  accuracies = cross_val_score(model, X_tl_bench_p, y_tl_bench_p, scoring='neg_log_loss', cv=CV)\n  for fold_idx, accuracy in enumerate(accuracies):\n    entries.append((model_name, fold_idx, accuracy))\ncv_df = pd.DataFrame(entries, columns=['model_name', 'fold_idx', 'neg_log_loss'])",
   "outputs": [
    {
     "name": "stderr",
     "text": "/shared-libs/python3.7/py/lib/python3.7/site-packages/sklearn/linear_model/_logistic.py:765: ConvergenceWarning: lbfgs failed to converge (status=1):\nSTOP: TOTAL NO. of ITERATIONS REACHED LIMIT.\n\nIncrease the number of iterations (max_iter) or scale the data as shown in:\n    https://scikit-learn.org/stable/modules/preprocessing.html\nPlease also refer to the documentation for alternative solver options:\n    https://scikit-learn.org/stable/modules/linear_model.html#logistic-regression\n  extra_warning_msg=_LOGISTIC_SOLVER_CONVERGENCE_MSG)\n/shared-libs/python3.7/py/lib/python3.7/site-packages/sklearn/linear_model/_logistic.py:765: ConvergenceWarning: lbfgs failed to converge (status=1):\nSTOP: TOTAL NO. of ITERATIONS REACHED LIMIT.\n\nIncrease the number of iterations (max_iter) or scale the data as shown in:\n    https://scikit-learn.org/stable/modules/preprocessing.html\nPlease also refer to the documentation for alternative solver options:\n    https://scikit-learn.org/stable/modules/linear_model.html#logistic-regression\n  extra_warning_msg=_LOGISTIC_SOLVER_CONVERGENCE_MSG)\n/shared-libs/python3.7/py/lib/python3.7/site-packages/sklearn/linear_model/_logistic.py:765: ConvergenceWarning: lbfgs failed to converge (status=1):\nSTOP: TOTAL NO. of ITERATIONS REACHED LIMIT.\n\nIncrease the number of iterations (max_iter) or scale the data as shown in:\n    https://scikit-learn.org/stable/modules/preprocessing.html\nPlease also refer to the documentation for alternative solver options:\n    https://scikit-learn.org/stable/modules/linear_model.html#logistic-regression\n  extra_warning_msg=_LOGISTIC_SOLVER_CONVERGENCE_MSG)\n/shared-libs/python3.7/py/lib/python3.7/site-packages/sklearn/linear_model/_logistic.py:765: ConvergenceWarning: lbfgs failed to converge (status=1):\nSTOP: TOTAL NO. of ITERATIONS REACHED LIMIT.\n\nIncrease the number of iterations (max_iter) or scale the data as shown in:\n    https://scikit-learn.org/stable/modules/preprocessing.html\nPlease also refer to the documentation for alternative solver options:\n    https://scikit-learn.org/stable/modules/linear_model.html#logistic-regression\n  extra_warning_msg=_LOGISTIC_SOLVER_CONVERGENCE_MSG)\n/shared-libs/python3.7/py/lib/python3.7/site-packages/sklearn/linear_model/_logistic.py:765: ConvergenceWarning: lbfgs failed to converge (status=1):\nSTOP: TOTAL NO. of ITERATIONS REACHED LIMIT.\n\nIncrease the number of iterations (max_iter) or scale the data as shown in:\n    https://scikit-learn.org/stable/modules/preprocessing.html\nPlease also refer to the documentation for alternative solver options:\n    https://scikit-learn.org/stable/modules/linear_model.html#logistic-regression\n  extra_warning_msg=_LOGISTIC_SOLVER_CONVERGENCE_MSG)\n/shared-libs/python3.7/py/lib/python3.7/site-packages/sklearn/linear_model/_logistic.py:765: ConvergenceWarning: lbfgs failed to converge (status=1):\nSTOP: TOTAL NO. of ITERATIONS REACHED LIMIT.\n\nIncrease the number of iterations (max_iter) or scale the data as shown in:\n    https://scikit-learn.org/stable/modules/preprocessing.html\nPlease also refer to the documentation for alternative solver options:\n    https://scikit-learn.org/stable/modules/linear_model.html#logistic-regression\n  extra_warning_msg=_LOGISTIC_SOLVER_CONVERGENCE_MSG)\n/shared-libs/python3.7/py/lib/python3.7/site-packages/sklearn/linear_model/_logistic.py:765: ConvergenceWarning: lbfgs failed to converge (status=1):\nSTOP: TOTAL NO. of ITERATIONS REACHED LIMIT.\n\nIncrease the number of iterations (max_iter) or scale the data as shown in:\n    https://scikit-learn.org/stable/modules/preprocessing.html\nPlease also refer to the documentation for alternative solver options:\n    https://scikit-learn.org/stable/modules/linear_model.html#logistic-regression\n  extra_warning_msg=_LOGISTIC_SOLVER_CONVERGENCE_MSG)\n/shared-libs/python3.7/py/lib/python3.7/site-packages/sklearn/linear_model/_logistic.py:765: ConvergenceWarning: lbfgs failed to converge (status=1):\nSTOP: TOTAL NO. of ITERATIONS REACHED LIMIT.\n\nIncrease the number of iterations (max_iter) or scale the data as shown in:\n    https://scikit-learn.org/stable/modules/preprocessing.html\nPlease also refer to the documentation for alternative solver options:\n    https://scikit-learn.org/stable/modules/linear_model.html#logistic-regression\n  extra_warning_msg=_LOGISTIC_SOLVER_CONVERGENCE_MSG)\n/shared-libs/python3.7/py/lib/python3.7/site-packages/sklearn/linear_model/_logistic.py:765: ConvergenceWarning: lbfgs failed to converge (status=1):\nSTOP: TOTAL NO. of ITERATIONS REACHED LIMIT.\n\nIncrease the number of iterations (max_iter) or scale the data as shown in:\n    https://scikit-learn.org/stable/modules/preprocessing.html\nPlease also refer to the documentation for alternative solver options:\n    https://scikit-learn.org/stable/modules/linear_model.html#logistic-regression\n  extra_warning_msg=_LOGISTIC_SOLVER_CONVERGENCE_MSG)\n/shared-libs/python3.7/py/lib/python3.7/site-packages/sklearn/linear_model/_logistic.py:765: ConvergenceWarning: lbfgs failed to converge (status=1):\nSTOP: TOTAL NO. of ITERATIONS REACHED LIMIT.\n\nIncrease the number of iterations (max_iter) or scale the data as shown in:\n    https://scikit-learn.org/stable/modules/preprocessing.html\nPlease also refer to the documentation for alternative solver options:\n    https://scikit-learn.org/stable/modules/linear_model.html#logistic-regression\n  extra_warning_msg=_LOGISTIC_SOLVER_CONVERGENCE_MSG)\n",
     "output_type": "stream"
    }
   ],
   "execution_count": null
  },
  {
   "cell_type": "code",
   "metadata": {
    "tags": [],
    "cell_id": "00061-0c886190-0da8-4674-934e-3e6a047a8a46",
    "deepnote_to_be_reexecuted": false,
    "source_hash": "7cd37824",
    "execution_start": 1624641949793,
    "execution_millis": 258,
    "deepnote_cell_type": "code"
   },
   "source": "# Plotting the models' accuracies.\nsns.boxplot(x='model_name', y='neg_log_loss', data=cv_df)\nsns.stripplot(x='model_name', y='neg_log_loss', data=cv_df, \n              size=8, jitter=True, edgecolor=\"gray\", linewidth=2)\nplt.show()",
   "outputs": [
    {
     "data": {
      "text/plain": "<Figure size 432x288 with 1 Axes>",
      "image/png": "[encoded data removed]"
     },
     "metadata": {
      "needs_background": "light",
      "image/png": {
       "width": 400,
       "height": 263
      }
     },
     "output_type": "display_data"
    }
   ],
   "execution_count": null
  },
  {
   "cell_type": "code",
   "metadata": {
    "tags": [],
    "cell_id": "00062-b8a6dc7d-28ae-49d4-bb92-546c7b1a71b8",
    "deepnote_to_be_reexecuted": false,
    "source_hash": "d8d44a82",
    "execution_start": 1624641983433,
    "execution_millis": 16,
    "deepnote_cell_type": "code"
   },
   "source": "# Look at mean accuracy of each model\n\ncv_df.groupby('model_name').neg_log_loss.mean()",
   "outputs": [
    {
     "output_type": "execute_result",
     "execution_count": 43,
     "data": {
      "text/plain": "model_name\nLogisticRegression       -1.589087\nMultinomialNB            -2.317950\nRandomForestClassifier   -0.392611\nSVC                      -1.812927\nName: neg_log_loss, dtype: float64"
     },
     "metadata": {}
    }
   ],
   "execution_count": null
  },
  {
   "cell_type": "markdown",
   "source": "### 1.6.2 Benchmarking with Text - Multi Class Loss",
   "metadata": {
    "tags": [],
    "cell_id": "00058-2ecc7a2a-eefd-46a5-bf55-71e91eeae916",
    "deepnote_cell_type": "markdown"
   }
  },
  {
   "cell_type": "code",
   "metadata": {
    "tags": [],
    "cell_id": "00065-760b5da1-182f-475c-81a5-eeb010845820",
    "deepnote_to_be_reexecuted": false,
    "source_hash": "1e1b1084",
    "execution_start": 1624658871424,
    "execution_millis": 7,
    "deepnote_cell_type": "code"
   },
   "source": "# Set the training and test variables for the models.\n#    x_tl and y_tl are from 1.3 of the notebook.\n#    x_tl and y_tl are resampled and factoried data for training.\nX_tl_bench_t = x_tl # X_tl_bench = 'Gene', 'Variation', 'TEXT'\ny_tl_bench_t = y_tl # Y_tl_bench = 'Class'",
   "execution_count": 34,
   "outputs": []
  },
  {
   "cell_type": "code",
   "metadata": {
    "tags": [],
    "cell_id": "00066-223c62a0-2848-480e-8536-b9734ee4ca75",
    "deepnote_to_be_reexecuted": false,
    "source_hash": "b61e87d",
    "execution_start": 1624658872955,
    "execution_millis": 9994,
    "deepnote_cell_type": "code"
   },
   "source": "# Convert X_tl's TEXT to tf-idf\nX_tl_bench_tft = tft.fit_transform(X_tl_bench_t)",
   "execution_count": 35,
   "outputs": []
  },
  {
   "cell_type": "code",
   "metadata": {
    "tags": [],
    "cell_id": "00043-204ebc87-e335-4591-b969-b4fe4a8744b4",
    "deepnote_to_be_reexecuted": true,
    "source_hash": "d91e1681",
    "execution_start": 1624658882956,
    "execution_millis": 308,
    "output_cleared": false,
    "is_code_hidden": false,
    "is_output_hidden": false,
    "deepnote_cell_type": "code"
   },
   "source": "# Run the individual models & get their accuracies.\n# This runs for > 40 minutes.\nCV_t = 10\ncv_df_t = pd.DataFrame(index=range(CV_t * len(models)))\nentries = []\nfor model in models:\n  model_name = model.__class__.__name__\n  accuracies = cross_val_score(model, X_tl_bench_tft, y_tl_bench_t, scoring='neg_log_loss', cv=CV_t)\n  for fold_idx, accuracy in enumerate(accuracies):\n    entries.append((model_name, fold_idx, accuracy))\ncv_df_t = pd.DataFrame(entries, columns=['model_name', 'fold_idx', 'neg_log_loss'])\n",
   "execution_count": 1,
   "outputs": [
    {
     "output_type": "error",
     "ename": "NameError",
     "evalue": "name 'pd' is not defined",
     "traceback": [
      "\u001b[0;31m---------------------------------------------------------------------------\u001b[0m",
      "\u001b[0;31mNameError\u001b[0m                                 Traceback (most recent call last)",
      "\u001b[0;32m<ipython-input-1-080d265bd552>\u001b[0m in \u001b[0;36m<module>\u001b[0;34m\u001b[0m\n\u001b[1;32m      2\u001b[0m \u001b[0;31m# This runs for > 40 minutes.\u001b[0m\u001b[0;34m\u001b[0m\u001b[0;34m\u001b[0m\u001b[0;34m\u001b[0m\u001b[0m\n\u001b[1;32m      3\u001b[0m \u001b[0mCV_t\u001b[0m \u001b[0;34m=\u001b[0m \u001b[0;36m10\u001b[0m\u001b[0;34m\u001b[0m\u001b[0;34m\u001b[0m\u001b[0m\n\u001b[0;32m----> 4\u001b[0;31m \u001b[0mcv_df_t\u001b[0m \u001b[0;34m=\u001b[0m \u001b[0mpd\u001b[0m\u001b[0;34m.\u001b[0m\u001b[0mDataFrame\u001b[0m\u001b[0;34m(\u001b[0m\u001b[0mindex\u001b[0m\u001b[0;34m=\u001b[0m\u001b[0mrange\u001b[0m\u001b[0;34m(\u001b[0m\u001b[0mCV_t\u001b[0m \u001b[0;34m*\u001b[0m \u001b[0mlen\u001b[0m\u001b[0;34m(\u001b[0m\u001b[0mmodels\u001b[0m\u001b[0;34m)\u001b[0m\u001b[0;34m)\u001b[0m\u001b[0;34m)\u001b[0m\u001b[0;34m\u001b[0m\u001b[0;34m\u001b[0m\u001b[0m\n\u001b[0m\u001b[1;32m      5\u001b[0m \u001b[0mentries\u001b[0m \u001b[0;34m=\u001b[0m \u001b[0;34m[\u001b[0m\u001b[0;34m]\u001b[0m\u001b[0;34m\u001b[0m\u001b[0;34m\u001b[0m\u001b[0m\n\u001b[1;32m      6\u001b[0m \u001b[0;32mfor\u001b[0m \u001b[0mmodel\u001b[0m \u001b[0;32min\u001b[0m \u001b[0mmodels\u001b[0m\u001b[0;34m:\u001b[0m\u001b[0;34m\u001b[0m\u001b[0;34m\u001b[0m\u001b[0m\n",
      "\u001b[0;31mNameError\u001b[0m: name 'pd' is not defined"
     ]
    }
   ]
  },
  {
   "cell_type": "code",
   "metadata": {
    "tags": [],
    "cell_id": "00047-6698f54d-e5da-475a-be46-d4979806e1f0",
    "deepnote_to_be_reexecuted": true,
    "source_hash": "ff4d6722",
    "execution_start": 1624646479676,
    "execution_millis": 38,
    "deepnote_cell_type": "code"
   },
   "source": "# Plotting the models' accuracies.\nsns.boxplot(x='model_name', y='neg_log_loss', data=cv_df_t)\nsns.stripplot(x='model_name', y='neg_log_loss', data=cv_df_t, \n              size=8, jitter=True, edgecolor=\"gray\", linewidth=2)\nplt.show()",
   "outputs": [
    {
     "output_type": "error",
     "ename": "ValueError",
     "evalue": "Could not interpret input 'model_name'",
     "traceback": [
      "\u001b[0;31m---------------------------------------------------------------------------\u001b[0m",
      "\u001b[0;31mValueError\u001b[0m                                Traceback (most recent call last)",
      "\u001b[0;32m<ipython-input-70-ce943d43df64>\u001b[0m in \u001b[0;36m<module>\u001b[0;34m\u001b[0m\n\u001b[1;32m      1\u001b[0m \u001b[0;31m# Plotting the models' accuracies.\u001b[0m\u001b[0;34m\u001b[0m\u001b[0;34m\u001b[0m\u001b[0;34m\u001b[0m\u001b[0m\n\u001b[0;32m----> 2\u001b[0;31m \u001b[0msns\u001b[0m\u001b[0;34m.\u001b[0m\u001b[0mboxplot\u001b[0m\u001b[0;34m(\u001b[0m\u001b[0mx\u001b[0m\u001b[0;34m=\u001b[0m\u001b[0;34m'model_name'\u001b[0m\u001b[0;34m,\u001b[0m \u001b[0my\u001b[0m\u001b[0;34m=\u001b[0m\u001b[0;34m'neg_log_loss'\u001b[0m\u001b[0;34m,\u001b[0m \u001b[0mdata\u001b[0m\u001b[0;34m=\u001b[0m\u001b[0mcv_df_t\u001b[0m\u001b[0;34m)\u001b[0m\u001b[0;34m\u001b[0m\u001b[0;34m\u001b[0m\u001b[0m\n\u001b[0m\u001b[1;32m      3\u001b[0m sns.stripplot(x='model_name', y='neg_log_loss', data=cv_df_t, \n\u001b[1;32m      4\u001b[0m               size=8, jitter=True, edgecolor=\"gray\", linewidth=2)\n\u001b[1;32m      5\u001b[0m \u001b[0mplt\u001b[0m\u001b[0;34m.\u001b[0m\u001b[0mshow\u001b[0m\u001b[0;34m(\u001b[0m\u001b[0;34m)\u001b[0m\u001b[0;34m\u001b[0m\u001b[0;34m\u001b[0m\u001b[0m\n",
      "\u001b[0;32m/shared-libs/python3.7/py/lib/python3.7/site-packages/seaborn/_decorators.py\u001b[0m in \u001b[0;36minner_f\u001b[0;34m(*args, **kwargs)\u001b[0m\n\u001b[1;32m     44\u001b[0m             )\n\u001b[1;32m     45\u001b[0m         \u001b[0mkwargs\u001b[0m\u001b[0;34m.\u001b[0m\u001b[0mupdate\u001b[0m\u001b[0;34m(\u001b[0m\u001b[0;34m{\u001b[0m\u001b[0mk\u001b[0m\u001b[0;34m:\u001b[0m \u001b[0marg\u001b[0m \u001b[0;32mfor\u001b[0m \u001b[0mk\u001b[0m\u001b[0;34m,\u001b[0m \u001b[0marg\u001b[0m \u001b[0;32min\u001b[0m \u001b[0mzip\u001b[0m\u001b[0;34m(\u001b[0m\u001b[0msig\u001b[0m\u001b[0;34m.\u001b[0m\u001b[0mparameters\u001b[0m\u001b[0;34m,\u001b[0m \u001b[0margs\u001b[0m\u001b[0;34m)\u001b[0m\u001b[0;34m}\u001b[0m\u001b[0;34m)\u001b[0m\u001b[0;34m\u001b[0m\u001b[0;34m\u001b[0m\u001b[0m\n\u001b[0;32m---> 46\u001b[0;31m         \u001b[0;32mreturn\u001b[0m \u001b[0mf\u001b[0m\u001b[0;34m(\u001b[0m\u001b[0;34m**\u001b[0m\u001b[0mkwargs\u001b[0m\u001b[0;34m)\u001b[0m\u001b[0;34m\u001b[0m\u001b[0;34m\u001b[0m\u001b[0m\n\u001b[0m\u001b[1;32m     47\u001b[0m     \u001b[0;32mreturn\u001b[0m \u001b[0minner_f\u001b[0m\u001b[0;34m\u001b[0m\u001b[0;34m\u001b[0m\u001b[0m\n\u001b[1;32m     48\u001b[0m \u001b[0;34m\u001b[0m\u001b[0m\n",
      "\u001b[0;32m/shared-libs/python3.7/py/lib/python3.7/site-packages/seaborn/categorical.py\u001b[0m in \u001b[0;36mboxplot\u001b[0;34m(x, y, hue, data, order, hue_order, orient, color, palette, saturation, width, dodge, fliersize, linewidth, whis, ax, **kwargs)\u001b[0m\n\u001b[1;32m   2240\u001b[0m     plotter = _BoxPlotter(x, y, hue, data, order, hue_order,\n\u001b[1;32m   2241\u001b[0m                           \u001b[0morient\u001b[0m\u001b[0;34m,\u001b[0m \u001b[0mcolor\u001b[0m\u001b[0;34m,\u001b[0m \u001b[0mpalette\u001b[0m\u001b[0;34m,\u001b[0m \u001b[0msaturation\u001b[0m\u001b[0;34m,\u001b[0m\u001b[0;34m\u001b[0m\u001b[0;34m\u001b[0m\u001b[0m\n\u001b[0;32m-> 2242\u001b[0;31m                           width, dodge, fliersize, linewidth)\n\u001b[0m\u001b[1;32m   2243\u001b[0m \u001b[0;34m\u001b[0m\u001b[0m\n\u001b[1;32m   2244\u001b[0m     \u001b[0;32mif\u001b[0m \u001b[0max\u001b[0m \u001b[0;32mis\u001b[0m \u001b[0;32mNone\u001b[0m\u001b[0;34m:\u001b[0m\u001b[0;34m\u001b[0m\u001b[0;34m\u001b[0m\u001b[0m\n",
      "\u001b[0;32m/shared-libs/python3.7/py/lib/python3.7/site-packages/seaborn/categorical.py\u001b[0m in \u001b[0;36m__init__\u001b[0;34m(self, x, y, hue, data, order, hue_order, orient, color, palette, saturation, width, dodge, fliersize, linewidth)\u001b[0m\n\u001b[1;32m    404\u001b[0m                  width, dodge, fliersize, linewidth):\n\u001b[1;32m    405\u001b[0m \u001b[0;34m\u001b[0m\u001b[0m\n\u001b[0;32m--> 406\u001b[0;31m         \u001b[0mself\u001b[0m\u001b[0;34m.\u001b[0m\u001b[0mestablish_variables\u001b[0m\u001b[0;34m(\u001b[0m\u001b[0mx\u001b[0m\u001b[0;34m,\u001b[0m \u001b[0my\u001b[0m\u001b[0;34m,\u001b[0m \u001b[0mhue\u001b[0m\u001b[0;34m,\u001b[0m \u001b[0mdata\u001b[0m\u001b[0;34m,\u001b[0m \u001b[0morient\u001b[0m\u001b[0;34m,\u001b[0m \u001b[0morder\u001b[0m\u001b[0;34m,\u001b[0m \u001b[0mhue_order\u001b[0m\u001b[0;34m)\u001b[0m\u001b[0;34m\u001b[0m\u001b[0;34m\u001b[0m\u001b[0m\n\u001b[0m\u001b[1;32m    407\u001b[0m         \u001b[0mself\u001b[0m\u001b[0;34m.\u001b[0m\u001b[0mestablish_colors\u001b[0m\u001b[0;34m(\u001b[0m\u001b[0mcolor\u001b[0m\u001b[0;34m,\u001b[0m \u001b[0mpalette\u001b[0m\u001b[0;34m,\u001b[0m \u001b[0msaturation\u001b[0m\u001b[0;34m)\u001b[0m\u001b[0;34m\u001b[0m\u001b[0;34m\u001b[0m\u001b[0m\n\u001b[1;32m    408\u001b[0m \u001b[0;34m\u001b[0m\u001b[0m\n",
      "\u001b[0;32m/shared-libs/python3.7/py/lib/python3.7/site-packages/seaborn/categorical.py\u001b[0m in \u001b[0;36mestablish_variables\u001b[0;34m(self, x, y, hue, data, orient, order, hue_order, units)\u001b[0m\n\u001b[1;32m    151\u001b[0m                 \u001b[0;32mif\u001b[0m \u001b[0misinstance\u001b[0m\u001b[0;34m(\u001b[0m\u001b[0mvar\u001b[0m\u001b[0;34m,\u001b[0m \u001b[0mstr\u001b[0m\u001b[0;34m)\u001b[0m\u001b[0;34m:\u001b[0m\u001b[0;34m\u001b[0m\u001b[0;34m\u001b[0m\u001b[0m\n\u001b[1;32m    152\u001b[0m                     \u001b[0merr\u001b[0m \u001b[0;34m=\u001b[0m \u001b[0;34m\"Could not interpret input '{}'\"\u001b[0m\u001b[0;34m.\u001b[0m\u001b[0mformat\u001b[0m\u001b[0;34m(\u001b[0m\u001b[0mvar\u001b[0m\u001b[0;34m)\u001b[0m\u001b[0;34m\u001b[0m\u001b[0;34m\u001b[0m\u001b[0m\n\u001b[0;32m--> 153\u001b[0;31m                     \u001b[0;32mraise\u001b[0m \u001b[0mValueError\u001b[0m\u001b[0;34m(\u001b[0m\u001b[0merr\u001b[0m\u001b[0;34m)\u001b[0m\u001b[0;34m\u001b[0m\u001b[0;34m\u001b[0m\u001b[0m\n\u001b[0m\u001b[1;32m    154\u001b[0m \u001b[0;34m\u001b[0m\u001b[0m\n\u001b[1;32m    155\u001b[0m             \u001b[0;31m# Figure out the plotting orientation\u001b[0m\u001b[0;34m\u001b[0m\u001b[0;34m\u001b[0m\u001b[0;34m\u001b[0m\u001b[0m\n",
      "\u001b[0;31mValueError\u001b[0m: Could not interpret input 'model_name'"
     ]
    }
   ],
   "execution_count": null
  },
  {
   "cell_type": "code",
   "metadata": {
    "tags": [],
    "cell_id": "00044-9fe68d3b-7e14-4602-96d0-dde08788636d",
    "deepnote_to_be_reexecuted": true,
    "source_hash": "54fa4068",
    "execution_start": 1624562527803,
    "execution_millis": 27,
    "deepnote_cell_type": "code"
   },
   "source": "# Look at mean accuracy of each model\n\ncv_df_t.groupby('model_name').neg_log_loss.mean()",
   "execution_count": null,
   "outputs": [
    {
     "output_type": "execute_result",
     "execution_count": 55,
     "data": {
      "text/plain": "model_name\nLinearSVC                 0.818123\nLogisticRegression        0.690018\nMultinomialNB             0.691645\nRandomForestClassifier    0.895548\nName: accuracy, dtype: float64"
     },
     "metadata": {}
    }
   ]
  },
  {
   "cell_type": "markdown",
   "source": "## 1.7 Benchmarking with - Accuracy",
   "metadata": {
    "tags": [],
    "cell_id": "00083-0dbadd10-3efb-47fb-b146-721ca854ae89",
    "deepnote_cell_type": "markdown"
   }
  },
  {
   "cell_type": "code",
   "source": "# Define the models being used.\n\nmodels_a = [\n    RandomForestClassifier(n_estimators=1000, max_depth=20, random_state=0),\n    LinearSVC(dual=False),\n    MultinomialNB(alpha=0.01),\n    LogisticRegression(random_state=0, max_iter=1000)\n]",
   "metadata": {
    "tags": [],
    "cell_id": "00084-7f340bad-447b-48cc-af2b-c4d00f970f1b",
    "deepnote_cell_type": "code"
   },
   "outputs": [],
   "execution_count": null
  },
  {
   "cell_type": "markdown",
   "source": "### 1.7.1 Benchmarking with Predicted Class- Accuracy",
   "metadata": {
    "tags": [],
    "cell_id": "00084-6f6f7f92-1e36-4fdf-be59-04b51fea8bb0",
    "deepnote_cell_type": "markdown"
   }
  },
  {
   "cell_type": "code",
   "source": "# Set the training and test variables for the models.\n#    x_tl_p_all and y_tl_p_all are from section 1.5\n#    They are resampled, gene and variation are factorized data for training\nX_tl_bench_p = x_tl_p_all # Features: 'Gene', 'Variation', 'PredictedClass'\ny_tl_bench_p = y_tl_p_all # Features: 'Class'",
   "metadata": {
    "tags": [],
    "cell_id": "00086-d9204185-cdef-4b4d-b2a9-d8095cb9f9f4",
    "deepnote_cell_type": "code"
   },
   "outputs": [],
   "execution_count": null
  },
  {
   "cell_type": "code",
   "source": "# Run the individual models & get their accuracies.\n\nCV = 10\ncv_df = pd.DataFrame(index=range(CV * len(models)))\nentries = []\nfor model in models_a:\n  model_name = model.__class__.__name__\n  accuracies = cross_val_score(model, X_tl_bench_p, y_tl_bench_p, scoring='accuracy', cv=CV)\n  for fold_idx, accuracy in enumerate(accuracies):\n    entries.append((model_name, fold_idx, accuracy))\ncv_df = pd.DataFrame(entries, columns=['model_name', 'fold_idx', 'accuracy'])",
   "metadata": {
    "tags": [],
    "cell_id": "00085-e586da9c-b696-4087-a796-519e05ac4c12",
    "deepnote_cell_type": "code"
   },
   "outputs": [],
   "execution_count": null
  },
  {
   "cell_type": "code",
   "source": "# Plotting the models' accuracies.\nsns.boxplot(x='model_name', y='accuracy', data=cv_df)\nsns.stripplot(x='model_name', y='accuracy', data=cv_df, \n              size=8, jitter=True, edgecolor=\"gray\", linewidth=2)\nplt.show()",
   "metadata": {
    "tags": [],
    "cell_id": "00086-3b1dfe7b-b830-4bd3-8e74-8140750c5a27",
    "deepnote_cell_type": "code"
   },
   "outputs": [],
   "execution_count": null
  },
  {
   "cell_type": "code",
   "source": "# Look at mean accuracy of each model\n\ncv_df.groupby('model_name').accuracy.mean()",
   "metadata": {
    "tags": [],
    "cell_id": "00087-90c8fdf5-a87a-45fe-898b-226e213cc8ed",
    "deepnote_cell_type": "code"
   },
   "outputs": [],
   "execution_count": null
  },
  {
   "cell_type": "markdown",
   "source": "### 1.7.2 Benchmarking with Text - Accuracy",
   "metadata": {
    "tags": [],
    "cell_id": "00084-50793d57-fa94-4f01-bbc0-2bb66d3886ef",
    "deepnote_cell_type": "markdown"
   }
  },
  {
   "cell_type": "code",
   "source": "# Set the training and test variables for the models.\n#    x_tl and y_tl are from 1.3 of the notebook.\n#    x_tl and y_tl are resampled and factoried data for training.\nX_tl_bench_t = x_tl # X_tl_bench = 'Gene', 'Variation', 'TEXT'\ny_tl_bench_t = y_tl # Y_tl_bench = 'Class'",
   "metadata": {
    "tags": [],
    "cell_id": "00091-7791e938-94b2-4ff0-8616-ed989022ae9e",
    "deepnote_cell_type": "code"
   },
   "outputs": [],
   "execution_count": null
  },
  {
   "cell_type": "code",
   "source": "# Convert X_tl's TEXT to tf-idf\nX_tl_bench_tft = tft.fit_transform(X_tl_bench_t)",
   "metadata": {
    "tags": [],
    "cell_id": "00092-d9a17a31-ef4e-41bc-a46b-0fb18fa2c257",
    "deepnote_cell_type": "code"
   },
   "outputs": [],
   "execution_count": null
  },
  {
   "cell_type": "code",
   "source": "# Run the individual models & get their accuracies.\n# This runs for > 40 minutes.\nCV_t = 10\ncv_df_t = pd.DataFrame(index=range(CV_t * len(models)))\nentries = []\nfor model in models_a:\n  model_name = model.__class__.__name__\n  accuracies = cross_val_score(model, X_tl_bench_tft, y_tl_bench_t, scoring='accuracy', cv=CV_t)\n  for fold_idx, accuracy in enumerate(accuracies):\n    entries.append((model_name, fold_idx, accuracy))\ncv_df_t = pd.DataFrame(entries, columns=['model_name', 'fold_idx', 'accuracy'])",
   "metadata": {
    "tags": [],
    "cell_id": "00093-c84eacf0-8e71-4924-8a40-704db562303a",
    "deepnote_cell_type": "code"
   },
   "outputs": [],
   "execution_count": null
  },
  {
   "cell_type": "code",
   "source": "# Plotting the models' accuracies.\nsns.boxplot(x='model_name', y='accuracy', data=cv_df_t)\nsns.stripplot(x='model_name', y='accuracy', data=cv_df_t, \n              size=8, jitter=True, edgecolor=\"gray\", linewidth=2)\nplt.show()",
   "metadata": {
    "tags": [],
    "cell_id": "00094-e9a2a61a-3340-4ba4-a61e-520edadcde86",
    "deepnote_cell_type": "code"
   },
   "outputs": [],
   "execution_count": null
  },
  {
   "cell_type": "code",
   "source": "# Look at mean accuracy of each model\n\ncv_df_t.groupby('model_name').accuracy.mean()",
   "metadata": {
    "tags": [],
    "cell_id": "00095-c2843b22-ada4-446a-8d21-0d244548b304",
    "deepnote_cell_type": "code"
   },
   "outputs": [],
   "execution_count": null
  },
  {
   "cell_type": "markdown",
   "source": "## 1.8 Stacking Models",
   "metadata": {
    "tags": [],
    "cell_id": "00067-3090c932-8ffa-48fb-af0c-d325fe0f86a9",
    "deepnote_cell_type": "markdown"
   }
  },
  {
   "cell_type": "markdown",
   "source": "### 1.7.1 Stacking with Predicted Class",
   "metadata": {
    "tags": [],
    "cell_id": "00070-be59887c-731a-4f97-ae29-9b1604475b78",
    "deepnote_cell_type": "markdown"
   }
  },
  {
   "cell_type": "code",
   "metadata": {
    "tags": [],
    "cell_id": "00072-2edcc5f1-11b6-4d5e-9dd9-f87521450df8",
    "deepnote_to_be_reexecuted": false,
    "source_hash": "8751036e",
    "execution_start": 1624565320713,
    "execution_millis": 113259,
    "is_output_hidden": true,
    "deepnote_cell_type": "code"
   },
   "source": "estimators = [('rf', RandomForestClassifier(n_estimators=200, max_depth=10, random_state=0)),\n              ('rfe', RandomForestClassifier(n_estimators=200, criterion='entropy', max_depth=10, random_state=0)),\n              ('svc', LinearSVC()), \n              #('MNB', MultinomialNB(alpha=0.001)),\n              ('LR', LogisticRegression(random_state=0))]\n\nlr = SVC(probability=True)\nsclf_p = StackingClassifier(estimators=estimators, final_estimator=lr, stack_method='auto', cv=10)\nsclf_p.fit(x_tl_p_all, y_tl_p_all)",
   "execution_count": null,
   "outputs": [
    {
     "name": "stderr",
     "text": "/shared-libs/python3.7/py/lib/python3.7/site-packages/sklearn/svm/_base.py:986: ConvergenceWarning: Liblinear failed to converge, increase the number of iterations.\n  \"the number of iterations.\", ConvergenceWarning)\n/shared-libs/python3.7/py/lib/python3.7/site-packages/sklearn/linear_model/_logistic.py:765: ConvergenceWarning: lbfgs failed to converge (status=1):\nSTOP: TOTAL NO. of ITERATIONS REACHED LIMIT.\n\nIncrease the number of iterations (max_iter) or scale the data as shown in:\n    https://scikit-learn.org/stable/modules/preprocessing.html\nPlease also refer to the documentation for alternative solver options:\n    https://scikit-learn.org/stable/modules/linear_model.html#logistic-regression\n  extra_warning_msg=_LOGISTIC_SOLVER_CONVERGENCE_MSG)\n/shared-libs/python3.7/py/lib/python3.7/site-packages/sklearn/svm/_base.py:986: ConvergenceWarning: Liblinear failed to converge, increase the number of iterations.\n  \"the number of iterations.\", ConvergenceWarning)\n/shared-libs/python3.7/py/lib/python3.7/site-packages/sklearn/svm/_base.py:986: ConvergenceWarning: Liblinear failed to converge, increase the number of iterations.\n  \"the number of iterations.\", ConvergenceWarning)\n/shared-libs/python3.7/py/lib/python3.7/site-packages/sklearn/svm/_base.py:986: ConvergenceWarning: Liblinear failed to converge, increase the number of iterations.\n  \"the number of iterations.\", ConvergenceWarning)\n/shared-libs/python3.7/py/lib/python3.7/site-packages/sklearn/svm/_base.py:986: ConvergenceWarning: Liblinear failed to converge, increase the number of iterations.\n  \"the number of iterations.\", ConvergenceWarning)\n/shared-libs/python3.7/py/lib/python3.7/site-packages/sklearn/svm/_base.py:986: ConvergenceWarning: Liblinear failed to converge, increase the number of iterations.\n  \"the number of iterations.\", ConvergenceWarning)\n/shared-libs/python3.7/py/lib/python3.7/site-packages/sklearn/svm/_base.py:986: ConvergenceWarning: Liblinear failed to converge, increase the number of iterations.\n  \"the number of iterations.\", ConvergenceWarning)\n/shared-libs/python3.7/py/lib/python3.7/site-packages/sklearn/svm/_base.py:986: ConvergenceWarning: Liblinear failed to converge, increase the number of iterations.\n  \"the number of iterations.\", ConvergenceWarning)\n/shared-libs/python3.7/py/lib/python3.7/site-packages/sklearn/svm/_base.py:986: ConvergenceWarning: Liblinear failed to converge, increase the number of iterations.\n  \"the number of iterations.\", ConvergenceWarning)\n/shared-libs/python3.7/py/lib/python3.7/site-packages/sklearn/svm/_base.py:986: ConvergenceWarning: Liblinear failed to converge, increase the number of iterations.\n  \"the number of iterations.\", ConvergenceWarning)\n/shared-libs/python3.7/py/lib/python3.7/site-packages/sklearn/svm/_base.py:986: ConvergenceWarning: Liblinear failed to converge, increase the number of iterations.\n  \"the number of iterations.\", ConvergenceWarning)\n/shared-libs/python3.7/py/lib/python3.7/site-packages/sklearn/linear_model/_logistic.py:765: ConvergenceWarning: lbfgs failed to converge (status=1):\nSTOP: TOTAL NO. of ITERATIONS REACHED LIMIT.\n\nIncrease the number of iterations (max_iter) or scale the data as shown in:\n    https://scikit-learn.org/stable/modules/preprocessing.html\nPlease also refer to the documentation for alternative solver options:\n    https://scikit-learn.org/stable/modules/linear_model.html#logistic-regression\n  extra_warning_msg=_LOGISTIC_SOLVER_CONVERGENCE_MSG)\n/shared-libs/python3.7/py/lib/python3.7/site-packages/sklearn/linear_model/_logistic.py:765: ConvergenceWarning: lbfgs failed to converge (status=1):\nSTOP: TOTAL NO. of ITERATIONS REACHED LIMIT.\n\nIncrease the number of iterations (max_iter) or scale the data as shown in:\n    https://scikit-learn.org/stable/modules/preprocessing.html\nPlease also refer to the documentation for alternative solver options:\n    https://scikit-learn.org/stable/modules/linear_model.html#logistic-regression\n  extra_warning_msg=_LOGISTIC_SOLVER_CONVERGENCE_MSG)\n/shared-libs/python3.7/py/lib/python3.7/site-packages/sklearn/linear_model/_logistic.py:765: ConvergenceWarning: lbfgs failed to converge (status=1):\nSTOP: TOTAL NO. of ITERATIONS REACHED LIMIT.\n\nIncrease the number of iterations (max_iter) or scale the data as shown in:\n    https://scikit-learn.org/stable/modules/preprocessing.html\nPlease also refer to the documentation for alternative solver options:\n    https://scikit-learn.org/stable/modules/linear_model.html#logistic-regression\n  extra_warning_msg=_LOGISTIC_SOLVER_CONVERGENCE_MSG)\n/shared-libs/python3.7/py/lib/python3.7/site-packages/sklearn/linear_model/_logistic.py:765: ConvergenceWarning: lbfgs failed to converge (status=1):\nSTOP: TOTAL NO. of ITERATIONS REACHED LIMIT.\n\nIncrease the number of iterations (max_iter) or scale the data as shown in:\n    https://scikit-learn.org/stable/modules/preprocessing.html\nPlease also refer to the documentation for alternative solver options:\n    https://scikit-learn.org/stable/modules/linear_model.html#logistic-regression\n  extra_warning_msg=_LOGISTIC_SOLVER_CONVERGENCE_MSG)\n/shared-libs/python3.7/py/lib/python3.7/site-packages/sklearn/linear_model/_logistic.py:765: ConvergenceWarning: lbfgs failed to converge (status=1):\nSTOP: TOTAL NO. of ITERATIONS REACHED LIMIT.\n\nIncrease the number of iterations (max_iter) or scale the data as shown in:\n    https://scikit-learn.org/stable/modules/preprocessing.html\nPlease also refer to the documentation for alternative solver options:\n    https://scikit-learn.org/stable/modules/linear_model.html#logistic-regression\n  extra_warning_msg=_LOGISTIC_SOLVER_CONVERGENCE_MSG)\n/shared-libs/python3.7/py/lib/python3.7/site-packages/sklearn/linear_model/_logistic.py:765: ConvergenceWarning: lbfgs failed to converge (status=1):\nSTOP: TOTAL NO. of ITERATIONS REACHED LIMIT.\n\nIncrease the number of iterations (max_iter) or scale the data as shown in:\n    https://scikit-learn.org/stable/modules/preprocessing.html\nPlease also refer to the documentation for alternative solver options:\n    https://scikit-learn.org/stable/modules/linear_model.html#logistic-regression\n  extra_warning_msg=_LOGISTIC_SOLVER_CONVERGENCE_MSG)\n/shared-libs/python3.7/py/lib/python3.7/site-packages/sklearn/linear_model/_logistic.py:765: ConvergenceWarning: lbfgs failed to converge (status=1):\nSTOP: TOTAL NO. of ITERATIONS REACHED LIMIT.\n\nIncrease the number of iterations (max_iter) or scale the data as shown in:\n    https://scikit-learn.org/stable/modules/preprocessing.html\nPlease also refer to the documentation for alternative solver options:\n    https://scikit-learn.org/stable/modules/linear_model.html#logistic-regression\n  extra_warning_msg=_LOGISTIC_SOLVER_CONVERGENCE_MSG)\n/shared-libs/python3.7/py/lib/python3.7/site-packages/sklearn/linear_model/_logistic.py:765: ConvergenceWarning: lbfgs failed to converge (status=1):\nSTOP: TOTAL NO. of ITERATIONS REACHED LIMIT.\n\nIncrease the number of iterations (max_iter) or scale the data as shown in:\n    https://scikit-learn.org/stable/modules/preprocessing.html\nPlease also refer to the documentation for alternative solver options:\n    https://scikit-learn.org/stable/modules/linear_model.html#logistic-regression\n  extra_warning_msg=_LOGISTIC_SOLVER_CONVERGENCE_MSG)\n/shared-libs/python3.7/py/lib/python3.7/site-packages/sklearn/linear_model/_logistic.py:765: ConvergenceWarning: lbfgs failed to converge (status=1):\nSTOP: TOTAL NO. of ITERATIONS REACHED LIMIT.\n\nIncrease the number of iterations (max_iter) or scale the data as shown in:\n    https://scikit-learn.org/stable/modules/preprocessing.html\nPlease also refer to the documentation for alternative solver options:\n    https://scikit-learn.org/stable/modules/linear_model.html#logistic-regression\n  extra_warning_msg=_LOGISTIC_SOLVER_CONVERGENCE_MSG)\n/shared-libs/python3.7/py/lib/python3.7/site-packages/sklearn/linear_model/_logistic.py:765: ConvergenceWarning: lbfgs failed to converge (status=1):\nSTOP: TOTAL NO. of ITERATIONS REACHED LIMIT.\n\nIncrease the number of iterations (max_iter) or scale the data as shown in:\n    https://scikit-learn.org/stable/modules/preprocessing.html\nPlease also refer to the documentation for alternative solver options:\n    https://scikit-learn.org/stable/modules/linear_model.html#logistic-regression\n  extra_warning_msg=_LOGISTIC_SOLVER_CONVERGENCE_MSG)\n",
     "output_type": "stream"
    },
    {
     "output_type": "execute_result",
     "execution_count": 97,
     "data": {
      "text/plain": "StackingClassifier(cv=10,\n                   estimators=[('rf',\n                                RandomForestClassifier(max_depth=10,\n                                                       n_estimators=200,\n                                                       random_state=0)),\n                               ('rfe',\n                                RandomForestClassifier(criterion='entropy',\n                                                       max_depth=10,\n                                                       n_estimators=200,\n                                                       random_state=0)),\n                               ('svc', LinearSVC()),\n                               ('LR', LogisticRegression(random_state=0))],\n                   final_estimator=SVC(probability=True))"
     },
     "metadata": {}
    }
   ]
  },
  {
   "cell_type": "code",
   "metadata": {
    "tags": [],
    "cell_id": "00073-831c811b-3c0f-4ae7-b145-72f221f29b7e",
    "deepnote_to_be_reexecuted": false,
    "source_hash": "2686c759",
    "execution_start": 1624565433988,
    "execution_millis": 2750,
    "deepnote_cell_type": "code"
   },
   "source": "# Use trained model to predict the test data (stage 1).\ny_prediction_p = sclf_p.predict(X_test_p_all)\nplot_confusion_matrix(sclf_p, X_test_p_all, y_test_p_all)\nprint(\"Accuracy is: {}\".format(accuracy_score(y_test_p_all, y_prediction_p)))",
   "execution_count": null,
   "outputs": [
    {
     "name": "stdout",
     "text": "Accuracy is: 0.8358433734939759\n",
     "output_type": "stream"
    },
    {
     "data": {
      "text/plain": "<Figure size 432x288 with 2 Axes>",
      "image/png": "[encoded data removed]"
     },
     "metadata": {
      "needs_background": "light",
      "image/png": {
       "width": 312,
       "height": 262
      }
     },
     "output_type": "display_data"
    }
   ]
  },
  {
   "cell_type": "code",
   "metadata": {
    "tags": [],
    "cell_id": "00076-ad0600c3-7f42-4e90-806d-331a628f3d2e",
    "deepnote_to_be_reexecuted": false,
    "source_hash": "64d64c09",
    "execution_start": 1624565436745,
    "execution_millis": 49,
    "deepnote_cell_type": "code"
   },
   "source": "# Get classification report\nprint(classification_report(y_test_p_all, y_prediction_p))",
   "execution_count": null,
   "outputs": [
    {
     "name": "stdout",
     "text": "              precision    recall  f1-score   support\n\n           1       0.79      0.86      0.82       127\n           2       0.87      0.86      0.86        90\n           3       0.30      0.23      0.26        13\n           4       0.88      0.86      0.87       134\n           5       0.73      0.50      0.59        54\n           6       0.95      0.85      0.90        61\n           7       0.84      0.94      0.88       176\n           8       1.00      0.50      0.67         2\n           9       1.00      0.86      0.92         7\n\n    accuracy                           0.84       664\n   macro avg       0.82      0.72      0.75       664\nweighted avg       0.83      0.84      0.83       664\n\n",
     "output_type": "stream"
    }
   ]
  },
  {
   "cell_type": "code",
   "metadata": {
    "tags": [],
    "cell_id": "00077-01146533-6b6d-4840-ac76-6630464a5953",
    "deepnote_to_be_reexecuted": false,
    "source_hash": "67dcb0d7",
    "execution_start": 1624565436806,
    "execution_millis": 75,
    "deepnote_cell_type": "code"
   },
   "source": "cohen_kappa_score(y_test_p_all, y_prediction_p)",
   "execution_count": null,
   "outputs": [
    {
     "output_type": "execute_result",
     "execution_count": 100,
     "data": {
      "text/plain": "0.7976102257506145"
     },
     "metadata": {}
    }
   ]
  },
  {
   "cell_type": "code",
   "metadata": {
    "tags": [],
    "cell_id": "00078-0cd3056d-7478-451c-85b7-5653b2e6b11e",
    "deepnote_to_be_reexecuted": false,
    "source_hash": "839316ee",
    "execution_start": 1624565436848,
    "execution_millis": 40,
    "deepnote_cell_type": "code"
   },
   "source": "matthews_corrcoef(y_test_p_all, y_prediction_p)",
   "execution_count": null,
   "outputs": [
    {
     "output_type": "execute_result",
     "execution_count": 101,
     "data": {
      "text/plain": "0.7986675126358339"
     },
     "metadata": {}
    }
   ]
  },
  {
   "cell_type": "code",
   "metadata": {
    "tags": [],
    "cell_id": "00075-d93c1103-0e57-4a6b-9cdd-25b588198f6d",
    "deepnote_to_be_reexecuted": false,
    "source_hash": "7fd6f899",
    "execution_start": 1624562678032,
    "execution_millis": 476,
    "output_cleared": false,
    "deepnote_cell_type": "code"
   },
   "source": "prob_pred_p = sclf_p.predict_proba(merged_df_label_resample_test)\npred_df_p = pd.DataFrame(prob_pred_p)",
   "execution_count": null,
   "outputs": []
  },
  {
   "cell_type": "code",
   "metadata": {
    "tags": [],
    "cell_id": "00076-3c7c8d5f-c5c5-4d7a-aa46-c17d7c6226a9",
    "deepnote_to_be_reexecuted": false,
    "source_hash": "ea7b608a",
    "execution_start": 1624562679849,
    "execution_millis": 5,
    "deepnote_cell_type": "code"
   },
   "source": "id_col_p = pd.Series(pipeline_test_df_merged[\"ID\"])\npred_df_p = pred_df_p.join(id_col_p)",
   "execution_count": null,
   "outputs": []
  },
  {
   "cell_type": "code",
   "metadata": {
    "tags": [],
    "cell_id": "00077-66920ace-7d90-4434-b766-74834973f004",
    "deepnote_to_be_reexecuted": false,
    "source_hash": "2830a669",
    "execution_start": 1624562682512,
    "execution_millis": 68,
    "deepnote_cell_type": "code"
   },
   "source": "pred_df_ordered_p = pred_df_p.copy()\nID_col_p = pred_df_ordered_p[\"ID\"]\npred_df_ordered_p.drop([\"ID\"], axis=1, inplace=True)\npred_df_ordered_p.insert(0, \"ID\", ID_col_p)\npred_df_ordered_p.columns = [\n    \"ID\",\"class1\",\"class2\",\n    \"class3\",\"class4\",\"class5\",\n    \"class6\",\"class7\",\"class8\",\n    \"class9\",\n]\npred_df_ordered_p.head(n=2)",
   "execution_count": null,
   "outputs": [
    {
     "output_type": "execute_result",
     "execution_count": 69,
     "data": {
      "application/vnd.deepnote.dataframe.v2+json": {
       "row_count": 2,
       "column_count": 10,
       "columns": [
        {
         "name": "ID",
         "dtype": "int64",
         "stats": {
          "unique_count": 2,
          "nan_count": 0,
          "min": "1",
          "max": "2",
          "histogram": [
           {
            "bin_start": 1,
            "bin_end": 1.1,
            "count": 1
           },
           {
            "bin_start": 1.1,
            "bin_end": 1.2,
            "count": 0
           },
           {
            "bin_start": 1.2,
            "bin_end": 1.3,
            "count": 0
           },
           {
            "bin_start": 1.3,
            "bin_end": 1.4,
            "count": 0
           },
           {
            "bin_start": 1.4,
            "bin_end": 1.5,
            "count": 0
           },
           {
            "bin_start": 1.5,
            "bin_end": 1.6,
            "count": 0
           },
           {
            "bin_start": 1.6,
            "bin_end": 1.7000000000000002,
            "count": 0
           },
           {
            "bin_start": 1.7000000000000002,
            "bin_end": 1.8,
            "count": 0
           },
           {
            "bin_start": 1.8,
            "bin_end": 1.9,
            "count": 0
           },
           {
            "bin_start": 1.9,
            "bin_end": 2,
            "count": 1
           }
          ]
         }
        },
        {
         "name": "class1",
         "dtype": "float64",
         "stats": {
          "unique_count": 2,
          "nan_count": 0,
          "min": "0.5919099641380908",
          "max": "0.8666343956118159",
          "histogram": [
           {
            "bin_start": 0.5919099641380908,
            "bin_end": 0.6193824072854633,
            "count": 1
           },
           {
            "bin_start": 0.6193824072854633,
            "bin_end": 0.6468548504328359,
            "count": 0
           },
           {
            "bin_start": 0.6468548504328359,
            "bin_end": 0.6743272935802084,
            "count": 0
           },
           {
            "bin_start": 0.6743272935802084,
            "bin_end": 0.7017997367275809,
            "count": 0
           },
           {
            "bin_start": 0.7017997367275809,
            "bin_end": 0.7292721798749533,
            "count": 0
           },
           {
            "bin_start": 0.7292721798749533,
            "bin_end": 0.7567446230223258,
            "count": 0
           },
           {
            "bin_start": 0.7567446230223258,
            "bin_end": 0.7842170661696983,
            "count": 0
           },
           {
            "bin_start": 0.7842170661696983,
            "bin_end": 0.8116895093170708,
            "count": 0
           },
           {
            "bin_start": 0.8116895093170708,
            "bin_end": 0.8391619524644434,
            "count": 0
           },
           {
            "bin_start": 0.8391619524644434,
            "bin_end": 0.8666343956118159,
            "count": 1
           }
          ]
         }
        },
        {
         "name": "class2",
         "dtype": "float64",
         "stats": {
          "unique_count": 2,
          "nan_count": 0,
          "min": "0.0011213561926842986",
          "max": "0.14021169315770557",
          "histogram": [
           {
            "bin_start": 0.0011213561926842986,
            "bin_end": 0.015030389889186424,
            "count": 1
           },
           {
            "bin_start": 0.015030389889186424,
            "bin_end": 0.028939423585688552,
            "count": 0
           },
           {
            "bin_start": 0.028939423585688552,
            "bin_end": 0.04284845728219067,
            "count": 0
           },
           {
            "bin_start": 0.04284845728219067,
            "bin_end": 0.0567574909786928,
            "count": 0
           },
           {
            "bin_start": 0.0567574909786928,
            "bin_end": 0.07066652467519494,
            "count": 0
           },
           {
            "bin_start": 0.07066652467519494,
            "bin_end": 0.08457555837169706,
            "count": 0
           },
           {
            "bin_start": 0.08457555837169706,
            "bin_end": 0.09848459206819919,
            "count": 0
           },
           {
            "bin_start": 0.09848459206819919,
            "bin_end": 0.11239362576470131,
            "count": 0
           },
           {
            "bin_start": 0.11239362576470131,
            "bin_end": 0.12630265946120345,
            "count": 0
           },
           {
            "bin_start": 0.12630265946120345,
            "bin_end": 0.14021169315770557,
            "count": 1
           }
          ]
         }
        },
        {
         "name": "class3",
         "dtype": "float64",
         "stats": {
          "unique_count": 2,
          "nan_count": 0,
          "min": "0.0010661493034694466",
          "max": "0.00497956530630809",
          "histogram": [
           {
            "bin_start": 0.0010661493034694466,
            "bin_end": 0.001457490903753311,
            "count": 1
           },
           {
            "bin_start": 0.001457490903753311,
            "bin_end": 0.0018488325040371752,
            "count": 0
           },
           {
            "bin_start": 0.0018488325040371752,
            "bin_end": 0.00224017410432104,
            "count": 0
           },
           {
            "bin_start": 0.00224017410432104,
            "bin_end": 0.002631515704604904,
            "count": 0
           },
           {
            "bin_start": 0.002631515704604904,
            "bin_end": 0.003022857304888768,
            "count": 0
           },
           {
            "bin_start": 0.003022857304888768,
            "bin_end": 0.0034141989051726324,
            "count": 0
           },
           {
            "bin_start": 0.0034141989051726324,
            "bin_end": 0.0038055405054564975,
            "count": 0
           },
           {
            "bin_start": 0.0038055405054564975,
            "bin_end": 0.004196882105740362,
            "count": 0
           },
           {
            "bin_start": 0.004196882105740362,
            "bin_end": 0.004588223706024226,
            "count": 0
           },
           {
            "bin_start": 0.004588223706024226,
            "bin_end": 0.00497956530630809,
            "count": 1
           }
          ]
         }
        },
        {
         "name": "class4",
         "dtype": "float64",
         "stats": {
          "unique_count": 2,
          "nan_count": 0,
          "min": "0.03583019071004829",
          "max": "0.12366824273745823",
          "histogram": [
           {
            "bin_start": 0.03583019071004829,
            "bin_end": 0.04461399591278928,
            "count": 1
           },
           {
            "bin_start": 0.04461399591278928,
            "bin_end": 0.053397801115530275,
            "count": 0
           },
           {
            "bin_start": 0.053397801115530275,
            "bin_end": 0.06218160631827127,
            "count": 0
           },
           {
            "bin_start": 0.06218160631827127,
            "bin_end": 0.07096541152101227,
            "count": 0
           },
           {
            "bin_start": 0.07096541152101227,
            "bin_end": 0.07974921672375326,
            "count": 0
           },
           {
            "bin_start": 0.07974921672375326,
            "bin_end": 0.08853302192649425,
            "count": 0
           },
           {
            "bin_start": 0.08853302192649425,
            "bin_end": 0.09731682712923523,
            "count": 0
           },
           {
            "bin_start": 0.09731682712923523,
            "bin_end": 0.10610063233197622,
            "count": 0
           },
           {
            "bin_start": 0.10610063233197622,
            "bin_end": 0.11488443753471722,
            "count": 0
           },
           {
            "bin_start": 0.11488443753471722,
            "bin_end": 0.12366824273745823,
            "count": 1
           }
          ]
         }
        },
        {
         "name": "class5",
         "dtype": "float64",
         "stats": {
          "unique_count": 2,
          "nan_count": 0,
          "min": "0.06409044483774091",
          "max": "0.09192592735155107",
          "histogram": [
           {
            "bin_start": 0.06409044483774091,
            "bin_end": 0.06687399308912192,
            "count": 1
           },
           {
            "bin_start": 0.06687399308912192,
            "bin_end": 0.06965754134050295,
            "count": 0
           },
           {
            "bin_start": 0.06965754134050295,
            "bin_end": 0.07244108959188396,
            "count": 0
           },
           {
            "bin_start": 0.07244108959188396,
            "bin_end": 0.07522463784326498,
            "count": 0
           },
           {
            "bin_start": 0.07522463784326498,
            "bin_end": 0.07800818609464599,
            "count": 0
           },
           {
            "bin_start": 0.07800818609464599,
            "bin_end": 0.08079173434602702,
            "count": 0
           },
           {
            "bin_start": 0.08079173434602702,
            "bin_end": 0.08357528259740803,
            "count": 0
           },
           {
            "bin_start": 0.08357528259740803,
            "bin_end": 0.08635883084878904,
            "count": 0
           },
           {
            "bin_start": 0.08635883084878904,
            "bin_end": 0.08914237910017006,
            "count": 0
           },
           {
            "bin_start": 0.08914237910017006,
            "bin_end": 0.09192592735155107,
            "count": 1
           }
          ]
         }
        },
        {
         "name": "class6",
         "dtype": "float64",
         "stats": {
          "unique_count": 2,
          "nan_count": 0,
          "min": "0.024469469343683055",
          "max": "0.03393983563307376",
          "histogram": [
           {
            "bin_start": 0.024469469343683055,
            "bin_end": 0.025416505972622124,
            "count": 1
           },
           {
            "bin_start": 0.025416505972622124,
            "bin_end": 0.026363542601561197,
            "count": 0
           },
           {
            "bin_start": 0.026363542601561197,
            "bin_end": 0.027310579230500266,
            "count": 0
           },
           {
            "bin_start": 0.027310579230500266,
            "bin_end": 0.02825761585943934,
            "count": 0
           },
           {
            "bin_start": 0.02825761585943934,
            "bin_end": 0.029204652488378408,
            "count": 0
           },
           {
            "bin_start": 0.029204652488378408,
            "bin_end": 0.030151689117317478,
            "count": 0
           },
           {
            "bin_start": 0.030151689117317478,
            "bin_end": 0.03109872574625655,
            "count": 0
           },
           {
            "bin_start": 0.03109872574625655,
            "bin_end": 0.03204576237519562,
            "count": 0
           },
           {
            "bin_start": 0.03204576237519562,
            "bin_end": 0.03299279900413469,
            "count": 0
           },
           {
            "bin_start": 0.03299279900413469,
            "bin_end": 0.03393983563307376,
            "count": 1
           }
          ]
         }
        },
        {
         "name": "class7",
         "dtype": "float64",
         "stats": {
          "unique_count": 2,
          "nan_count": 0,
          "min": "0.004854411837033389",
          "max": "0.01054529637132402",
          "histogram": [
           {
            "bin_start": 0.004854411837033389,
            "bin_end": 0.005423500290462452,
            "count": 1
           },
           {
            "bin_start": 0.005423500290462452,
            "bin_end": 0.005992588743891515,
            "count": 0
           },
           {
            "bin_start": 0.005992588743891515,
            "bin_end": 0.006561677197320578,
            "count": 0
           },
           {
            "bin_start": 0.006561677197320578,
            "bin_end": 0.007130765650749641,
            "count": 0
           },
           {
            "bin_start": 0.007130765650749641,
            "bin_end": 0.007699854104178705,
            "count": 0
           },
           {
            "bin_start": 0.007699854104178705,
            "bin_end": 0.008268942557607767,
            "count": 0
           },
           {
            "bin_start": 0.008268942557607767,
            "bin_end": 0.00883803101103683,
            "count": 0
           },
           {
            "bin_start": 0.00883803101103683,
            "bin_end": 0.009407119464465893,
            "count": 0
           },
           {
            "bin_start": 0.009407119464465893,
            "bin_end": 0.009976207917894955,
            "count": 0
           },
           {
            "bin_start": 0.009976207917894955,
            "bin_end": 0.01054529637132402,
            "count": 1
           }
          ]
         }
        },
        {
         "name": "class8",
         "dtype": "float64",
         "stats": {
          "unique_count": 2,
          "nan_count": 0,
          "min": "0.0003212257382877601",
          "max": "0.000832698777531809",
          "histogram": [
           {
            "bin_start": 0.0003212257382877601,
            "bin_end": 0.000372373042212165,
            "count": 1
           },
           {
            "bin_start": 0.000372373042212165,
            "bin_end": 0.00042352034613656986,
            "count": 0
           },
           {
            "bin_start": 0.00042352034613656986,
            "bin_end": 0.0004746676500609748,
            "count": 0
           },
           {
            "bin_start": 0.0004746676500609748,
            "bin_end": 0.0005258149539853797,
            "count": 0
           },
           {
            "bin_start": 0.0005258149539853797,
            "bin_end": 0.0005769622579097845,
            "count": 0
           },
           {
            "bin_start": 0.0005769622579097845,
            "bin_end": 0.0006281095618341895,
            "count": 0
           },
           {
            "bin_start": 0.0006281095618341895,
            "bin_end": 0.0006792568657585944,
            "count": 0
           },
           {
            "bin_start": 0.0006792568657585944,
            "bin_end": 0.0007304041696829992,
            "count": 0
           },
           {
            "bin_start": 0.0007304041696829992,
            "bin_end": 0.0007815514736074041,
            "count": 0
           },
           {
            "bin_start": 0.0007815514736074041,
            "bin_end": 0.000832698777531809,
            "count": 1
           }
          ]
         }
        },
        {
         "name": "class9",
         "dtype": "float64",
         "stats": {
          "unique_count": 2,
          "nan_count": 0,
          "min": "0.0016123564252370085",
          "max": "0.001986776526956478",
          "histogram": [
           {
            "bin_start": 0.0016123564252370085,
            "bin_end": 0.0016497984354089555,
            "count": 1
           },
           {
            "bin_start": 0.0016497984354089555,
            "bin_end": 0.0016872404455809025,
            "count": 0
           },
           {
            "bin_start": 0.0016872404455809025,
            "bin_end": 0.0017246824557528493,
            "count": 0
           },
           {
            "bin_start": 0.0017246824557528493,
            "bin_end": 0.0017621244659247963,
            "count": 0
           },
           {
            "bin_start": 0.0017621244659247963,
            "bin_end": 0.0017995664760967432,
            "count": 0
           },
           {
            "bin_start": 0.0017995664760967432,
            "bin_end": 0.0018370084862686902,
            "count": 0
           },
           {
            "bin_start": 0.0018370084862686902,
            "bin_end": 0.0018744504964406372,
            "count": 0
           },
           {
            "bin_start": 0.0018744504964406372,
            "bin_end": 0.001911892506612584,
            "count": 0
           },
           {
            "bin_start": 0.001911892506612584,
            "bin_end": 0.001949334516784531,
            "count": 0
           },
           {
            "bin_start": 0.001949334516784531,
            "bin_end": 0.001986776526956478,
            "count": 1
           }
          ]
         }
        },
        {
         "name": "_deepnote_index_column",
         "dtype": "int64"
        }
       ],
       "rows_top": [
        {
         "ID": 1,
         "class1": 0.5919099641380908,
         "class2": 0.14021169315770557,
         "class3": 0.00497956530630809,
         "class4": 0.12366824273745823,
         "class5": 0.09192592735155107,
         "class6": 0.03393983563307376,
         "class7": 0.01054529637132402,
         "class8": 0.000832698777531809,
         "class9": 0.001986776526956478,
         "_deepnote_index_column": 0
        },
        {
         "ID": 2,
         "class1": 0.8666343956118159,
         "class2": 0.0011213561926842986,
         "class3": 0.0010661493034694466,
         "class4": 0.03583019071004829,
         "class5": 0.06409044483774091,
         "class6": 0.024469469343683055,
         "class7": 0.004854411837033389,
         "class8": 0.0003212257382877601,
         "class9": 0.0016123564252370085,
         "_deepnote_index_column": 1
        }
       ],
       "rows_bottom": null
      },
      "text/plain": "   ID    class1    class2    class3    class4    class5    class6    class7  \\\n0   1  0.591910  0.140212  0.004980  0.123668  0.091926  0.033940  0.010545   \n1   2  0.866634  0.001121  0.001066  0.035830  0.064090  0.024469  0.004854   \n\n     class8    class9  \n0  0.000833  0.001987  \n1  0.000321  0.001612  ",
      "text/html": "<div>\n<style scoped>\n    .dataframe tbody tr th:only-of-type {\n        vertical-align: middle;\n    }\n\n    .dataframe tbody tr th {\n        vertical-align: top;\n    }\n\n    .dataframe thead th {\n        text-align: right;\n    }\n</style>\n<table border=\"1\" class=\"dataframe\">\n  <thead>\n    <tr style=\"text-align: right;\">\n      <th></th>\n      <th>ID</th>\n      <th>class1</th>\n      <th>class2</th>\n      <th>class3</th>\n      <th>class4</th>\n      <th>class5</th>\n      <th>class6</th>\n      <th>class7</th>\n      <th>class8</th>\n      <th>class9</th>\n    </tr>\n  </thead>\n  <tbody>\n    <tr>\n      <th>0</th>\n      <td>1</td>\n      <td>0.591910</td>\n      <td>0.140212</td>\n      <td>0.004980</td>\n      <td>0.123668</td>\n      <td>0.091926</td>\n      <td>0.033940</td>\n      <td>0.010545</td>\n      <td>0.000833</td>\n      <td>0.001987</td>\n    </tr>\n    <tr>\n      <th>1</th>\n      <td>2</td>\n      <td>0.866634</td>\n      <td>0.001121</td>\n      <td>0.001066</td>\n      <td>0.035830</td>\n      <td>0.064090</td>\n      <td>0.024469</td>\n      <td>0.004854</td>\n      <td>0.000321</td>\n      <td>0.001612</td>\n    </tr>\n  </tbody>\n</table>\n</div>"
     },
     "metadata": {}
    }
   ]
  },
  {
   "cell_type": "code",
   "metadata": {
    "tags": [],
    "cell_id": "00078-d8df8c7f-07f7-4887-a047-e5265b071e0e",
    "deepnote_to_be_reexecuted": false,
    "source_hash": "6c44fd2a",
    "execution_start": 1624562685641,
    "execution_millis": 23,
    "deepnote_cell_type": "code"
   },
   "source": "pred_df_ordered_p.to_csv(\"submit_to_kaggle_SVC_PC_noNB.csv\", index=False)",
   "execution_count": null,
   "outputs": []
  },
  {
   "cell_type": "markdown",
   "source": "### 1.7.2 Stacking with Text",
   "metadata": {
    "tags": [],
    "cell_id": "00070-027a5704-984d-4341-93dd-5572af48b611",
    "deepnote_cell_type": "markdown"
   }
  },
  {
   "cell_type": "code",
   "metadata": {
    "tags": [],
    "cell_id": "00073-436afd8e-cd84-49fa-a197-9527d883d5cf",
    "deepnote_to_be_reexecuted": false,
    "source_hash": "6a8b5b12",
    "execution_start": 1624562688794,
    "execution_millis": 5,
    "deepnote_cell_type": "code"
   },
   "source": "# Set the training and test variables for the model.\n# Using training variables from the bench w/ text (not predicted class)\nX_tl_stack = X_tl_bench_tft\ny_tl_stack = y_tl_bench_t ",
   "execution_count": null,
   "outputs": []
  },
  {
   "cell_type": "code",
   "metadata": {
    "tags": [],
    "cell_id": "00073-013f8a52-9913-46ea-89a7-fbb3ff35675a",
    "deepnote_to_be_reexecuted": false,
    "source_hash": "c0c39477",
    "execution_start": 1624562688806,
    "execution_millis": 476,
    "deepnote_cell_type": "code"
   },
   "source": "# Convert X_test to tf-idf\n#    Use .transform not .fit_transform to ensure \n#    that it is the same size is x_tl_stack.\n#    To prevent error, make sure that you've ran .fit_transform(X_tl_bench_t) in\n#    the benchmarking section.   \nX_test_tft = tft.transform(X_test)",
   "execution_count": null,
   "outputs": []
  },
  {
   "cell_type": "code",
   "metadata": {
    "tags": [],
    "cell_id": "00078-92b2b0e0-ea1e-4cf4-8a90-84945d97d5d6",
    "deepnote_to_be_reexecuted": false,
    "source_hash": "6b6a3cec",
    "execution_start": 1624590787794,
    "execution_millis": 8,
    "output_cleared": false,
    "is_output_hidden": true,
    "deepnote_cell_type": "code"
   },
   "source": "# Stacking with TF-IDF\n# Runs for ~ 20 minutes\n\nestimators = [('rf', RandomForestClassifier(n_estimators=200, max_depth=10, random_state=0)),\n              ('rfe', RandomForestClassifier(n_estimators=200, criterion='entropy', max_depth=10, random_state=0)),\n              ('svc', LinearSVC()), \n              ('MNB', MultinomialNB(alpha=0.001)),\n              ('LR', LogisticRegression(random_state=0))]\n\nlr = SVC(probability=True)\nsclf = StackingClassifier(estimators=estimators, final_estimator=lr, stack_method='auto', cv=10)\nsclf.fit(X_tl_stack, y_tl_stack)",
   "execution_count": null,
   "outputs": [
    {
     "output_type": "error",
     "ename": "NameError",
     "evalue": "name 'RandomForestClassifier' is not defined",
     "traceback": [
      "\u001b[0;31m---------------------------------------------------------------------------\u001b[0m",
      "\u001b[0;31mNameError\u001b[0m                                 Traceback (most recent call last)",
      "\u001b[0;32m<ipython-input-2-fe4f36d3d9a2>\u001b[0m in \u001b[0;36m<module>\u001b[0;34m\u001b[0m\n\u001b[1;32m      2\u001b[0m \u001b[0;31m# Runs for ~ 20 minutes\u001b[0m\u001b[0;34m\u001b[0m\u001b[0;34m\u001b[0m\u001b[0;34m\u001b[0m\u001b[0m\n\u001b[1;32m      3\u001b[0m \u001b[0;34m\u001b[0m\u001b[0m\n\u001b[0;32m----> 4\u001b[0;31m estimators = [('rf', RandomForestClassifier(n_estimators=200, max_depth=10, random_state=0)),\n\u001b[0m\u001b[1;32m      5\u001b[0m               \u001b[0;34m(\u001b[0m\u001b[0;34m'rfe'\u001b[0m\u001b[0;34m,\u001b[0m \u001b[0mRandomForestClassifier\u001b[0m\u001b[0;34m(\u001b[0m\u001b[0mn_estimators\u001b[0m\u001b[0;34m=\u001b[0m\u001b[0;36m200\u001b[0m\u001b[0;34m,\u001b[0m \u001b[0mcriterion\u001b[0m\u001b[0;34m=\u001b[0m\u001b[0;34m'entropy'\u001b[0m\u001b[0;34m,\u001b[0m \u001b[0mmax_depth\u001b[0m\u001b[0;34m=\u001b[0m\u001b[0;36m10\u001b[0m\u001b[0;34m,\u001b[0m \u001b[0mrandom_state\u001b[0m\u001b[0;34m=\u001b[0m\u001b[0;36m0\u001b[0m\u001b[0;34m)\u001b[0m\u001b[0;34m)\u001b[0m\u001b[0;34m,\u001b[0m\u001b[0;34m\u001b[0m\u001b[0;34m\u001b[0m\u001b[0m\n\u001b[1;32m      6\u001b[0m               \u001b[0;34m(\u001b[0m\u001b[0;34m'svc'\u001b[0m\u001b[0;34m,\u001b[0m \u001b[0mLinearSVC\u001b[0m\u001b[0;34m(\u001b[0m\u001b[0;34m)\u001b[0m\u001b[0;34m)\u001b[0m\u001b[0;34m,\u001b[0m\u001b[0;34m\u001b[0m\u001b[0;34m\u001b[0m\u001b[0m\n",
      "\u001b[0;31mNameError\u001b[0m: name 'RandomForestClassifier' is not defined"
     ]
    }
   ]
  },
  {
   "cell_type": "code",
   "metadata": {
    "tags": [],
    "cell_id": "00078-6c0a9d6b-f38e-4ab5-a326-920501f34940",
    "deepnote_to_be_reexecuted": false,
    "source_hash": "836560f2",
    "execution_start": 1624590788350,
    "execution_millis": 15,
    "deepnote_cell_type": "code"
   },
   "source": "# Use trained model to predict the test data from splitting training set.\ny_prediction = sclf.predict(X_test_tft)\nplot_confusion_matrix(sclf, X_test_tft, y_test)\nprint(\"Accuracy is: {}\".format(accuracy_score(y_test, y_prediction)))",
   "execution_count": null,
   "outputs": [
    {
     "output_type": "error",
     "ename": "NameError",
     "evalue": "name 'sclf' is not defined",
     "traceback": [
      "\u001b[0;31m---------------------------------------------------------------------------\u001b[0m",
      "\u001b[0;31mNameError\u001b[0m                                 Traceback (most recent call last)",
      "\u001b[0;32m<ipython-input-3-067ea55ef295>\u001b[0m in \u001b[0;36m<module>\u001b[0;34m\u001b[0m\n\u001b[1;32m      1\u001b[0m \u001b[0;31m# Use trained model to predict the test data from splitting training set.\u001b[0m\u001b[0;34m\u001b[0m\u001b[0;34m\u001b[0m\u001b[0;34m\u001b[0m\u001b[0m\n\u001b[0;32m----> 2\u001b[0;31m \u001b[0my_prediction\u001b[0m \u001b[0;34m=\u001b[0m \u001b[0msclf\u001b[0m\u001b[0;34m.\u001b[0m\u001b[0mpredict\u001b[0m\u001b[0;34m(\u001b[0m\u001b[0mX_test_tft\u001b[0m\u001b[0;34m)\u001b[0m\u001b[0;34m\u001b[0m\u001b[0;34m\u001b[0m\u001b[0m\n\u001b[0m\u001b[1;32m      3\u001b[0m \u001b[0mplot_confusion_matrix\u001b[0m\u001b[0;34m(\u001b[0m\u001b[0msclf\u001b[0m\u001b[0;34m,\u001b[0m \u001b[0mX_test_tft\u001b[0m\u001b[0;34m,\u001b[0m \u001b[0my_test\u001b[0m\u001b[0;34m)\u001b[0m\u001b[0;34m\u001b[0m\u001b[0;34m\u001b[0m\u001b[0m\n\u001b[1;32m      4\u001b[0m \u001b[0mprint\u001b[0m\u001b[0;34m(\u001b[0m\u001b[0;34m\"Accuracy is: {}\"\u001b[0m\u001b[0;34m.\u001b[0m\u001b[0mformat\u001b[0m\u001b[0;34m(\u001b[0m\u001b[0maccuracy_score\u001b[0m\u001b[0;34m(\u001b[0m\u001b[0my_test\u001b[0m\u001b[0;34m,\u001b[0m \u001b[0my_prediction\u001b[0m\u001b[0;34m)\u001b[0m\u001b[0;34m)\u001b[0m\u001b[0;34m)\u001b[0m\u001b[0;34m\u001b[0m\u001b[0;34m\u001b[0m\u001b[0m\n",
      "\u001b[0;31mNameError\u001b[0m: name 'sclf' is not defined"
     ]
    }
   ]
  },
  {
   "cell_type": "code",
   "metadata": {
    "tags": [],
    "cell_id": "00088-9fe31965-9a1e-42cb-97fc-1ded3fd51dbd",
    "deepnote_to_be_reexecuted": false,
    "source_hash": "b4384324",
    "execution_start": 1624590790822,
    "execution_millis": 16,
    "deepnote_cell_type": "code"
   },
   "source": "print(classification_report(y_test, y_prediction))",
   "execution_count": null,
   "outputs": [
    {
     "output_type": "error",
     "ename": "NameError",
     "evalue": "name 'classification_report' is not defined",
     "traceback": [
      "\u001b[0;31m---------------------------------------------------------------------------\u001b[0m",
      "\u001b[0;31mNameError\u001b[0m                                 Traceback (most recent call last)",
      "\u001b[0;32m<ipython-input-4-a8778fd2e3a9>\u001b[0m in \u001b[0;36m<module>\u001b[0;34m\u001b[0m\n\u001b[0;32m----> 1\u001b[0;31m \u001b[0mprint\u001b[0m\u001b[0;34m(\u001b[0m\u001b[0mclassification_report\u001b[0m\u001b[0;34m(\u001b[0m\u001b[0my_test\u001b[0m\u001b[0;34m,\u001b[0m \u001b[0my_prediction\u001b[0m\u001b[0;34m)\u001b[0m\u001b[0;34m)\u001b[0m\u001b[0;34m\u001b[0m\u001b[0;34m\u001b[0m\u001b[0m\n\u001b[0m",
      "\u001b[0;31mNameError\u001b[0m: name 'classification_report' is not defined"
     ]
    }
   ]
  },
  {
   "cell_type": "code",
   "metadata": {
    "tags": [],
    "cell_id": "00089-7aab5ca5-9c0b-48a5-85be-40d846b3d0b3",
    "deepnote_to_be_reexecuted": false,
    "source_hash": "861b0e86",
    "execution_start": 1624565083852,
    "execution_millis": 24,
    "deepnote_cell_type": "code"
   },
   "source": "cohen_kappa_score(y_test, y_prediction)",
   "execution_count": null,
   "outputs": [
    {
     "output_type": "execute_result",
     "execution_count": 95,
     "data": {
      "text/plain": "0.5722219753854356"
     },
     "metadata": {}
    }
   ]
  },
  {
   "cell_type": "code",
   "metadata": {
    "tags": [],
    "cell_id": "00090-1a4ebab9-c554-42b0-b0e0-d9cfe3bb72a1",
    "deepnote_to_be_reexecuted": false,
    "source_hash": "9239fa3f",
    "execution_start": 1624565092368,
    "execution_millis": 26,
    "deepnote_cell_type": "code"
   },
   "source": "matthews_corrcoef(y_test, y_prediction)",
   "execution_count": null,
   "outputs": [
    {
     "output_type": "execute_result",
     "execution_count": 96,
     "data": {
      "text/plain": "0.5732133820235602"
     },
     "metadata": {}
    }
   ]
  },
  {
   "cell_type": "code",
   "metadata": {
    "tags": [],
    "cell_id": "00077-1506b6b2-c1ff-4ce4-958e-d0b2a54a08a1",
    "deepnote_to_be_reexecuted": false,
    "source_hash": "f2579fc1",
    "execution_start": 1624563843867,
    "execution_millis": 5,
    "deepnote_cell_type": "code"
   },
   "source": "test_stage2_no_ID = pipeline_test_df_merged.copy()\ndel test_stage2_no_ID['ID']",
   "execution_count": null,
   "outputs": []
  },
  {
   "cell_type": "code",
   "metadata": {
    "tags": [],
    "cell_id": "00079-ee2ee831-f70a-43c5-9bd5-7935e1eb5b37",
    "deepnote_to_be_reexecuted": false,
    "source_hash": "708b0de",
    "execution_start": 1624563843886,
    "execution_millis": 674,
    "deepnote_cell_type": "code"
   },
   "source": "test_stage2_tft = tft.transform(test_stage2_no_ID)",
   "execution_count": null,
   "outputs": []
  },
  {
   "cell_type": "code",
   "metadata": {
    "tags": [],
    "cell_id": "00076-4f44e30b-1de6-48ec-bddf-958a8362bea4",
    "deepnote_to_be_reexecuted": false,
    "source_hash": "371cd5ee",
    "execution_start": 1624563844570,
    "execution_millis": 787,
    "deepnote_cell_type": "code"
   },
   "source": "prob_pred = sclf.predict_proba(test_stage2_tft)\npred_df = pd.DataFrame(prob_pred)",
   "execution_count": null,
   "outputs": []
  },
  {
   "cell_type": "code",
   "metadata": {
    "tags": [],
    "cell_id": "00082-dabd2c88-a9b2-4f9f-b788-06fb0a14744e",
    "deepnote_to_be_reexecuted": false,
    "source_hash": "bdba1c24",
    "execution_start": 1624563845375,
    "execution_millis": 16,
    "deepnote_cell_type": "code"
   },
   "source": "id_col = pd.Series(pipeline_test_df_merged[\"ID\"])\npred_df = pred_df.join(id_col)",
   "execution_count": null,
   "outputs": []
  },
  {
   "cell_type": "code",
   "metadata": {
    "tags": [],
    "cell_id": "00082-e8188014-a644-4c38-a87f-4422a0e95a10",
    "deepnote_to_be_reexecuted": false,
    "source_hash": "559b48e2",
    "execution_start": 1624563845401,
    "execution_millis": 90,
    "deepnote_cell_type": "code"
   },
   "source": "pred_df_ordered = pred_df.copy()\nID_col = pred_df_ordered[\"ID\"]\npred_df_ordered.drop([\"ID\"], axis=1, inplace=True)\npred_df_ordered.insert(0, \"ID\", ID_col)\npred_df_ordered.columns = [\n    \"ID\",\"class1\",\"class2\",\n    \"class3\",\"class4\",\"class5\",\n    \"class6\",\"class7\",\"class8\",\n    \"class9\",\n]\npred_df_ordered.head(n=2)",
   "execution_count": null,
   "outputs": [
    {
     "output_type": "execute_result",
     "execution_count": 79,
     "data": {
      "application/vnd.deepnote.dataframe.v2+json": {
       "row_count": 2,
       "column_count": 10,
       "columns": [
        {
         "name": "ID",
         "dtype": "int64",
         "stats": {
          "unique_count": 2,
          "nan_count": 0,
          "min": "1",
          "max": "2",
          "histogram": [
           {
            "bin_start": 1,
            "bin_end": 1.1,
            "count": 1
           },
           {
            "bin_start": 1.1,
            "bin_end": 1.2,
            "count": 0
           },
           {
            "bin_start": 1.2,
            "bin_end": 1.3,
            "count": 0
           },
           {
            "bin_start": 1.3,
            "bin_end": 1.4,
            "count": 0
           },
           {
            "bin_start": 1.4,
            "bin_end": 1.5,
            "count": 0
           },
           {
            "bin_start": 1.5,
            "bin_end": 1.6,
            "count": 0
           },
           {
            "bin_start": 1.6,
            "bin_end": 1.7000000000000002,
            "count": 0
           },
           {
            "bin_start": 1.7000000000000002,
            "bin_end": 1.8,
            "count": 0
           },
           {
            "bin_start": 1.8,
            "bin_end": 1.9,
            "count": 0
           },
           {
            "bin_start": 1.9,
            "bin_end": 2,
            "count": 1
           }
          ]
         }
        },
        {
         "name": "class1",
         "dtype": "float64",
         "stats": {
          "unique_count": 2,
          "nan_count": 0,
          "min": "0.5273257332463894",
          "max": "0.840294551008338",
          "histogram": [
           {
            "bin_start": 0.5273257332463894,
            "bin_end": 0.5586226150225843,
            "count": 1
           },
           {
            "bin_start": 0.5586226150225843,
            "bin_end": 0.5899194967987792,
            "count": 0
           },
           {
            "bin_start": 0.5899194967987792,
            "bin_end": 0.621216378574974,
            "count": 0
           },
           {
            "bin_start": 0.621216378574974,
            "bin_end": 0.6525132603511689,
            "count": 0
           },
           {
            "bin_start": 0.6525132603511689,
            "bin_end": 0.6838101421273637,
            "count": 0
           },
           {
            "bin_start": 0.6838101421273637,
            "bin_end": 0.7151070239035586,
            "count": 0
           },
           {
            "bin_start": 0.7151070239035586,
            "bin_end": 0.7464039056797535,
            "count": 0
           },
           {
            "bin_start": 0.7464039056797535,
            "bin_end": 0.7777007874559483,
            "count": 0
           },
           {
            "bin_start": 0.7777007874559483,
            "bin_end": 0.8089976692321432,
            "count": 0
           },
           {
            "bin_start": 0.8089976692321432,
            "bin_end": 0.840294551008338,
            "count": 1
           }
          ]
         }
        },
        {
         "name": "class2",
         "dtype": "float64",
         "stats": {
          "unique_count": 2,
          "nan_count": 0,
          "min": "0.006198787860082226",
          "max": "0.026832435306891046",
          "histogram": [
           {
            "bin_start": 0.006198787860082226,
            "bin_end": 0.008262152604763108,
            "count": 1
           },
           {
            "bin_start": 0.008262152604763108,
            "bin_end": 0.01032551734944399,
            "count": 0
           },
           {
            "bin_start": 0.01032551734944399,
            "bin_end": 0.012388882094124871,
            "count": 0
           },
           {
            "bin_start": 0.012388882094124871,
            "bin_end": 0.014452246838805752,
            "count": 0
           },
           {
            "bin_start": 0.014452246838805752,
            "bin_end": 0.016515611583486633,
            "count": 0
           },
           {
            "bin_start": 0.016515611583486633,
            "bin_end": 0.018578976328167518,
            "count": 0
           },
           {
            "bin_start": 0.018578976328167518,
            "bin_end": 0.0206423410728484,
            "count": 0
           },
           {
            "bin_start": 0.0206423410728484,
            "bin_end": 0.02270570581752928,
            "count": 0
           },
           {
            "bin_start": 0.02270570581752928,
            "bin_end": 0.02476907056221016,
            "count": 0
           },
           {
            "bin_start": 0.02476907056221016,
            "bin_end": 0.026832435306891046,
            "count": 1
           }
          ]
         }
        },
        {
         "name": "class3",
         "dtype": "float64",
         "stats": {
          "unique_count": 2,
          "nan_count": 0,
          "min": "0.00046181247319847875",
          "max": "0.0032794997868361023",
          "histogram": [
           {
            "bin_start": 0.00046181247319847875,
            "bin_end": 0.0007435812045622412,
            "count": 1
           },
           {
            "bin_start": 0.0007435812045622412,
            "bin_end": 0.0010253499359260034,
            "count": 0
           },
           {
            "bin_start": 0.0010253499359260034,
            "bin_end": 0.0013071186672897659,
            "count": 0
           },
           {
            "bin_start": 0.0013071186672897659,
            "bin_end": 0.0015888873986535281,
            "count": 0
           },
           {
            "bin_start": 0.0015888873986535281,
            "bin_end": 0.0018706561300172906,
            "count": 0
           },
           {
            "bin_start": 0.0018706561300172906,
            "bin_end": 0.002152424861381053,
            "count": 0
           },
           {
            "bin_start": 0.002152424861381053,
            "bin_end": 0.0024341935927448153,
            "count": 0
           },
           {
            "bin_start": 0.0024341935927448153,
            "bin_end": 0.002715962324108578,
            "count": 0
           },
           {
            "bin_start": 0.002715962324108578,
            "bin_end": 0.0029977310554723403,
            "count": 0
           },
           {
            "bin_start": 0.0029977310554723403,
            "bin_end": 0.0032794997868361023,
            "count": 1
           }
          ]
         }
        },
        {
         "name": "class4",
         "dtype": "float64",
         "stats": {
          "unique_count": 2,
          "nan_count": 0,
          "min": "0.12241189032840767",
          "max": "0.1627698821857262",
          "histogram": [
           {
            "bin_start": 0.12241189032840767,
            "bin_end": 0.1264476895141395,
            "count": 1
           },
           {
            "bin_start": 0.1264476895141395,
            "bin_end": 0.13048348869987136,
            "count": 0
           },
           {
            "bin_start": 0.13048348869987136,
            "bin_end": 0.13451928788560322,
            "count": 0
           },
           {
            "bin_start": 0.13451928788560322,
            "bin_end": 0.13855508707133507,
            "count": 0
           },
           {
            "bin_start": 0.13855508707133507,
            "bin_end": 0.14259088625706692,
            "count": 0
           },
           {
            "bin_start": 0.14259088625706692,
            "bin_end": 0.14662668544279878,
            "count": 0
           },
           {
            "bin_start": 0.14662668544279878,
            "bin_end": 0.15066248462853063,
            "count": 0
           },
           {
            "bin_start": 0.15066248462853063,
            "bin_end": 0.15469828381426248,
            "count": 0
           },
           {
            "bin_start": 0.15469828381426248,
            "bin_end": 0.15873408299999434,
            "count": 0
           },
           {
            "bin_start": 0.15873408299999434,
            "bin_end": 0.1627698821857262,
            "count": 1
           }
          ]
         }
        },
        {
         "name": "class5",
         "dtype": "float64",
         "stats": {
          "unique_count": 2,
          "nan_count": 0,
          "min": "0.010054907570498145",
          "max": "0.08597290181458013",
          "histogram": [
           {
            "bin_start": 0.010054907570498145,
            "bin_end": 0.017646706994906343,
            "count": 1
           },
           {
            "bin_start": 0.017646706994906343,
            "bin_end": 0.025238506419314542,
            "count": 0
           },
           {
            "bin_start": 0.025238506419314542,
            "bin_end": 0.032830305843722735,
            "count": 0
           },
           {
            "bin_start": 0.032830305843722735,
            "bin_end": 0.040422105268130934,
            "count": 0
           },
           {
            "bin_start": 0.040422105268130934,
            "bin_end": 0.04801390469253913,
            "count": 0
           },
           {
            "bin_start": 0.04801390469253913,
            "bin_end": 0.055605704116947326,
            "count": 0
           },
           {
            "bin_start": 0.055605704116947326,
            "bin_end": 0.06319750354135553,
            "count": 0
           },
           {
            "bin_start": 0.06319750354135553,
            "bin_end": 0.07078930296576373,
            "count": 0
           },
           {
            "bin_start": 0.07078930296576373,
            "bin_end": 0.07838110239017193,
            "count": 0
           },
           {
            "bin_start": 0.07838110239017193,
            "bin_end": 0.08597290181458013,
            "count": 1
           }
          ]
         }
        },
        {
         "name": "class6",
         "dtype": "float64",
         "stats": {
          "unique_count": 2,
          "nan_count": 0,
          "min": "0.014436654676823375",
          "max": "0.17179812876418835",
          "histogram": [
           {
            "bin_start": 0.014436654676823375,
            "bin_end": 0.030172802085559874,
            "count": 1
           },
           {
            "bin_start": 0.030172802085559874,
            "bin_end": 0.04590894949429637,
            "count": 0
           },
           {
            "bin_start": 0.04590894949429637,
            "bin_end": 0.061645096903032874,
            "count": 0
           },
           {
            "bin_start": 0.061645096903032874,
            "bin_end": 0.07738124431176938,
            "count": 0
           },
           {
            "bin_start": 0.07738124431176938,
            "bin_end": 0.09311739172050587,
            "count": 0
           },
           {
            "bin_start": 0.09311739172050587,
            "bin_end": 0.10885353912924237,
            "count": 0
           },
           {
            "bin_start": 0.10885353912924237,
            "bin_end": 0.12458968653797886,
            "count": 0
           },
           {
            "bin_start": 0.12458968653797886,
            "bin_end": 0.14032583394671536,
            "count": 0
           },
           {
            "bin_start": 0.14032583394671536,
            "bin_end": 0.15606198135545185,
            "count": 0
           },
           {
            "bin_start": 0.15606198135545185,
            "bin_end": 0.17179812876418835,
            "count": 1
           }
          ]
         }
        },
        {
         "name": "class7",
         "dtype": "float64",
         "stats": {
          "unique_count": 2,
          "nan_count": 0,
          "min": "0.005770165721038987",
          "max": "0.02179581003906016",
          "histogram": [
           {
            "bin_start": 0.005770165721038987,
            "bin_end": 0.0073727301528411044,
            "count": 1
           },
           {
            "bin_start": 0.0073727301528411044,
            "bin_end": 0.008975294584643221,
            "count": 0
           },
           {
            "bin_start": 0.008975294584643221,
            "bin_end": 0.01057785901644534,
            "count": 0
           },
           {
            "bin_start": 0.01057785901644534,
            "bin_end": 0.012180423448247456,
            "count": 0
           },
           {
            "bin_start": 0.012180423448247456,
            "bin_end": 0.013782987880049575,
            "count": 0
           },
           {
            "bin_start": 0.013782987880049575,
            "bin_end": 0.01538555231185169,
            "count": 0
           },
           {
            "bin_start": 0.01538555231185169,
            "bin_end": 0.01698811674365381,
            "count": 0
           },
           {
            "bin_start": 0.01698811674365381,
            "bin_end": 0.018590681175455925,
            "count": 0
           },
           {
            "bin_start": 0.018590681175455925,
            "bin_end": 0.020193245607258044,
            "count": 0
           },
           {
            "bin_start": 0.020193245607258044,
            "bin_end": 0.02179581003906016,
            "count": 1
           }
          ]
         }
        },
        {
         "name": "class8",
         "dtype": "float64",
         "stats": {
          "unique_count": 2,
          "nan_count": 0,
          "min": "9.472914798691163e-05",
          "max": "0.0002321656137307368",
          "histogram": [
           {
            "bin_start": 0.00009472914798691163,
            "bin_end": 0.00010847279456129415,
            "count": 1
           },
           {
            "bin_start": 0.00010847279456129415,
            "bin_end": 0.00012221644113567668,
            "count": 0
           },
           {
            "bin_start": 0.00012221644113567668,
            "bin_end": 0.00013596008771005918,
            "count": 0
           },
           {
            "bin_start": 0.00013596008771005918,
            "bin_end": 0.0001497037342844417,
            "count": 0
           },
           {
            "bin_start": 0.0001497037342844417,
            "bin_end": 0.00016344738085882424,
            "count": 0
           },
           {
            "bin_start": 0.00016344738085882424,
            "bin_end": 0.00017719102743320674,
            "count": 0
           },
           {
            "bin_start": 0.00017719102743320674,
            "bin_end": 0.00019093467400758927,
            "count": 0
           },
           {
            "bin_start": 0.00019093467400758927,
            "bin_end": 0.0002046783205819718,
            "count": 0
           },
           {
            "bin_start": 0.0002046783205819718,
            "bin_end": 0.0002184219671563543,
            "count": 0
           },
           {
            "bin_start": 0.0002184219671563543,
            "bin_end": 0.0002321656137307368,
            "count": 1
           }
          ]
         }
        },
        {
         "name": "class9",
         "dtype": "float64",
         "stats": {
          "unique_count": 2,
          "nan_count": 0,
          "min": "0.00013087970834143125",
          "max": "0.00013906474788239072",
          "histogram": [
           {
            "bin_start": 0.00013087970834143125,
            "bin_end": 0.0001316982122955272,
            "count": 1
           },
           {
            "bin_start": 0.0001316982122955272,
            "bin_end": 0.00013251671624962315,
            "count": 0
           },
           {
            "bin_start": 0.00013251671624962315,
            "bin_end": 0.00013333522020371908,
            "count": 0
           },
           {
            "bin_start": 0.00013333522020371908,
            "bin_end": 0.00013415372415781504,
            "count": 0
           },
           {
            "bin_start": 0.00013415372415781504,
            "bin_end": 0.000134972228111911,
            "count": 0
           },
           {
            "bin_start": 0.000134972228111911,
            "bin_end": 0.00013579073206600693,
            "count": 0
           },
           {
            "bin_start": 0.00013579073206600693,
            "bin_end": 0.00013660923602010287,
            "count": 0
           },
           {
            "bin_start": 0.00013660923602010287,
            "bin_end": 0.00013742773997419883,
            "count": 0
           },
           {
            "bin_start": 0.00013742773997419883,
            "bin_end": 0.0001382462439282948,
            "count": 0
           },
           {
            "bin_start": 0.0001382462439282948,
            "bin_end": 0.00013906474788239072,
            "count": 1
           }
          ]
         }
        },
        {
         "name": "_deepnote_index_column",
         "dtype": "int64"
        }
       ],
       "rows_top": [
        {
         "ID": 1,
         "class1": 0.5273257332463894,
         "class2": 0.026832435306891046,
         "class3": 0.0032794997868361023,
         "class4": 0.1627698821857262,
         "class5": 0.08597290181458013,
         "class6": 0.17179812876418835,
         "class7": 0.02179581003906016,
         "class8": 0.00009472914798691163,
         "class9": 0.00013087970834143125,
         "_deepnote_index_column": 0
        },
        {
         "ID": 2,
         "class1": 0.840294551008338,
         "class2": 0.006198787860082226,
         "class3": 0.00046181247319847875,
         "class4": 0.12241189032840767,
         "class5": 0.010054907570498145,
         "class6": 0.014436654676823375,
         "class7": 0.005770165721038987,
         "class8": 0.0002321656137307368,
         "class9": 0.00013906474788239072,
         "_deepnote_index_column": 1
        }
       ],
       "rows_bottom": null
      },
      "text/plain": "   ID    class1    class2    class3    class4    class5    class6    class7  \\\n0   1  0.527326  0.026832  0.003279  0.162770  0.085973  0.171798  0.021796   \n1   2  0.840295  0.006199  0.000462  0.122412  0.010055  0.014437  0.005770   \n\n     class8    class9  \n0  0.000095  0.000131  \n1  0.000232  0.000139  ",
      "text/html": "<div>\n<style scoped>\n    .dataframe tbody tr th:only-of-type {\n        vertical-align: middle;\n    }\n\n    .dataframe tbody tr th {\n        vertical-align: top;\n    }\n\n    .dataframe thead th {\n        text-align: right;\n    }\n</style>\n<table border=\"1\" class=\"dataframe\">\n  <thead>\n    <tr style=\"text-align: right;\">\n      <th></th>\n      <th>ID</th>\n      <th>class1</th>\n      <th>class2</th>\n      <th>class3</th>\n      <th>class4</th>\n      <th>class5</th>\n      <th>class6</th>\n      <th>class7</th>\n      <th>class8</th>\n      <th>class9</th>\n    </tr>\n  </thead>\n  <tbody>\n    <tr>\n      <th>0</th>\n      <td>1</td>\n      <td>0.527326</td>\n      <td>0.026832</td>\n      <td>0.003279</td>\n      <td>0.162770</td>\n      <td>0.085973</td>\n      <td>0.171798</td>\n      <td>0.021796</td>\n      <td>0.000095</td>\n      <td>0.000131</td>\n    </tr>\n    <tr>\n      <th>1</th>\n      <td>2</td>\n      <td>0.840295</td>\n      <td>0.006199</td>\n      <td>0.000462</td>\n      <td>0.122412</td>\n      <td>0.010055</td>\n      <td>0.014437</td>\n      <td>0.005770</td>\n      <td>0.000232</td>\n      <td>0.000139</td>\n    </tr>\n  </tbody>\n</table>\n</div>"
     },
     "metadata": {}
    }
   ]
  },
  {
   "cell_type": "code",
   "metadata": {
    "tags": [],
    "cell_id": "00083-4b1e2560-cf97-445a-8709-0daca5c02445",
    "deepnote_to_be_reexecuted": false,
    "source_hash": "cf80c68e",
    "execution_start": 1624563845478,
    "execution_millis": 33,
    "deepnote_cell_type": "code"
   },
   "source": "pred_df_ordered.to_csv(\"submit_to_kaggle_SVC_text.csv\", index=False)",
   "execution_count": null,
   "outputs": []
  },
  {
   "cell_type": "markdown",
   "source": "<a style='text-decoration:none;line-height:16px;display:flex;color:#5B5B62;padding:10px;justify-content:end;' href='https://deepnote.com?utm_source=created-in-deepnote-cell&projectId=f3429806-221b-4e18-a695-754269d0015a' target=\"_blank\">\n<img alt='Created in deepnote.com' style='display:inline;max-height:16px;margin:0px;margin-right:7.5px;' src='data:image/svg+xml;base64,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' > </img>\nCreated in <span style='font-weight:600;margin-left:4px;'>Deepnote</span></a>",
   "metadata": {
    "tags": [],
    "created_in_deepnote_cell": true,
    "deepnote_cell_type": "markdown"
   }
  }
 ],
 "nbformat": 4,
 "nbformat_minor": 2,
 "metadata": {
  "orig_nbformat": 2,
  "deepnote": {
   "is_reactive": false
  },
  "deepnote_notebook_id": "603492ce-1413-41e6-9cd2-12f0dc8fef01",
  "deepnote_execution_queue": [
   {
    "cellId": "00043-204ebc87-e335-4591-b969-b4fe4a8744b4",
    "sessionId": "a25d8867-e3c0-43c3-9daa-95647f06935a",
    "msgId": "d1f177df-4702-4214-b911-01d807a4c1aa"
   }
  ]
 }
}